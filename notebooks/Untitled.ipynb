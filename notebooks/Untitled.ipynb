{
 "cells": [
  {
   "cell_type": "code",
   "execution_count": 137,
   "id": "141ad33a-e4d1-487b-81dd-bb536f0ed410",
   "metadata": {},
   "outputs": [
    {
     "name": "stdout",
     "output_type": "stream",
     "text": [
      "The autoreload extension is already loaded. To reload it, use:\n",
      "  %reload_ext autoreload\n"
     ]
    }
   ],
   "source": [
    "%load_ext autoreload\n",
    "%autoreload 2\n",
    "import time\n",
    "import requests\n",
    "import urllib.request\n",
    "from bs4 import BeautifulSoup\n",
    "from string import ascii_lowercase as alc\n",
    "\n",
    "import numpy as np\n",
    "import pandas as pd\n",
    "\n",
    "%matplotlib inline\n",
    "import matplotlib"
   ]
  },
  {
   "cell_type": "code",
   "execution_count": 20,
   "id": "e6eea04c-f589-4ca9-a55e-9b771c46edca",
   "metadata": {},
   "outputs": [],
   "source": [
    "url = \"https://characterprofile.fandom.com\"\n",
    "list_query = \"/wiki/Category:Video_Game_Characters?from=\"\n",
    "page_query = \"A\""
   ]
  },
  {
   "cell_type": "code",
   "execution_count": 23,
   "id": "a542984c-cb27-4e0c-8d5a-e09b4797c681",
   "metadata": {},
   "outputs": [],
   "source": [
    "response = requests.get(url + list_query + page_query)\n",
    "soup = BeautifulSoup(response.text, 'html.parser')"
   ]
  },
  {
   "cell_type": "code",
   "execution_count": 24,
   "id": "f222e908-a371-400e-95c1-48550bf15c51",
   "metadata": {},
   "outputs": [],
   "source": [
    "char_blocks = soup.find_all(class_=\"category-page__member\")"
   ]
  },
  {
   "cell_type": "code",
   "execution_count": 27,
   "id": "f72cbaa2-96f7-49ee-bbb2-df959f5eb018",
   "metadata": {},
   "outputs": [
    {
     "data": {
      "text/plain": [
       "'/wiki/Abobo'"
      ]
     },
     "execution_count": 27,
     "metadata": {},
     "output_type": "execute_result"
    }
   ],
   "source": [
    "char_dir = char_blocks[0].find('a').attrs['href']\n",
    "char_dir"
   ]
  },
  {
   "cell_type": "code",
   "execution_count": 28,
   "id": "df60acbe-f31d-49e8-9e17-b09a5e1fc574",
   "metadata": {},
   "outputs": [
    {
     "data": {
      "text/plain": [
       "'Abobo'"
      ]
     },
     "execution_count": 28,
     "metadata": {},
     "output_type": "execute_result"
    }
   ],
   "source": [
    "char_name = char_blocks[0].find('a').attrs['title']\n",
    "char_name"
   ]
  },
  {
   "cell_type": "code",
   "execution_count": 31,
   "id": "49f13043-8a11-40cd-a34e-f471afdf94a1",
   "metadata": {},
   "outputs": [],
   "source": [
    "char_response = requests.get(url + char_dir)\n",
    "char_soup = BeautifulSoup(char_response.text, 'html.parser')"
   ]
  },
  {
   "cell_type": "code",
   "execution_count": 37,
   "id": "0a09cd72-d620-490d-ad8e-328725ab3854",
   "metadata": {
    "scrolled": true
   },
   "outputs": [
    {
     "data": {
      "text/plain": [
       "<table class=\"wikia-infobox\">\n",
       "<tbody><tr>\n",
       "<th class=\"wikia-infobox-header\" colspan=\"2\">Abobo\n",
       "</th></tr>\n",
       "<tr>\n",
       "<td class=\"wikia-infobox-image\" colspan=\"2\"><figure class=\"thumb tright show-info-icon\" style=\"width: 180px\"> <a class=\"image\" href=\"https://static.wikia.nocookie.net/characterprofile/images/a/a8/Abobo_-_04.png/revision/latest?cb=20200809184914\"><img alt=\"Abobo - 04\" class=\"thumbimage\" data-image-key=\"Abobo_-_04.png\" data-image-name=\"Abobo - 04.png\" data-relevant=\"1\" decoding=\"async\" height=\"189\" loading=\"lazy\" src=\"https://static.wikia.nocookie.net/characterprofile/images/a/a8/Abobo_-_04.png/revision/latest/scale-to-width-down/180?cb=20200809184914\" width=\"180\"/></a> <figcaption class=\"thumbcaption\"> <a class=\"info-icon\" href=\"/wiki/File:Abobo_-_04.png\"><svg><use xlink:href=\"#wds-icons-info-small\"></use></svg></a> </figcaption> </figure>\n",
       "</td></tr>\n",
       "<tr>\n",
       "<th>Series\n",
       "</th>\n",
       "<td><span class=\"new\" data-uncrawlable-url=\"L3dpa2kvRG91YmxlX0RyYWdvbl8oc2VyaWVzKT9hY3Rpb249ZWRpdCZyZWRsaW5rPTE=\" title=\"Double Dragon (series) (page does not exist)\">Double Dragon (series)</span>\n",
       "</td></tr>\n",
       "<tr>\n",
       "<th>Age\n",
       "</th>\n",
       "<td>\n",
       "</td></tr>\n",
       "<tr>\n",
       "<th>Birthday\n",
       "</th>\n",
       "<td>Unknown\n",
       "</td></tr>\n",
       "<tr>\n",
       "<th>Sex\n",
       "</th>\n",
       "<td>Male\n",
       "</td></tr>\n",
       "<tr>\n",
       "<th>Species\n",
       "</th>\n",
       "<td>Unknown\n",
       "</td></tr>\n",
       "<tr>\n",
       "<th>Height\n",
       "</th>\n",
       "<td>\n",
       "</td></tr>\n",
       "<tr>\n",
       "<th>Weight\n",
       "</th>\n",
       "<td>\n",
       "</td></tr>\n",
       "<tr>\n",
       "<th><a href=\"/wiki/Character_Alignment\" title=\"Character Alignment\">Alignment</a>\n",
       "</th>\n",
       "<td>Neutral Evil\n",
       "</td></tr></tbody></table>"
      ]
     },
     "execution_count": 37,
     "metadata": {},
     "output_type": "execute_result"
    }
   ],
   "source": [
    "char_soup.find(class_=\"wikia-infobox\")"
   ]
  },
  {
   "cell_type": "code",
   "execution_count": 46,
   "id": "4f888017-916b-4911-a0a4-569fbd8e8a73",
   "metadata": {},
   "outputs": [
    {
     "data": {
      "text/plain": [
       "'https://static.wikia.nocookie.net/characterprofile/images/a/a8/Abobo_-_04.png/revision/latest?cb=20200809184914'"
      ]
     },
     "execution_count": 46,
     "metadata": {},
     "output_type": "execute_result"
    }
   ],
   "source": [
    "img_url = char_soup.find(class_=\"wikia-infobox\").find(class_=\"image\").attrs['href']\n",
    "img_url"
   ]
  },
  {
   "cell_type": "code",
   "execution_count": 106,
   "id": "aaa2c015-5515-4081-980d-65c7d83de68a",
   "metadata": {},
   "outputs": [
    {
     "data": {
      "text/plain": [
       "'png'"
      ]
     },
     "execution_count": 106,
     "metadata": {},
     "output_type": "execute_result"
    }
   ],
   "source": [
    "img_ext = char_soup.find(class_=\"wikia-infobox\").find('img').get('data-image-name').split('.')[-1]\n",
    "img_ext"
   ]
  },
  {
   "cell_type": "code",
   "execution_count": 111,
   "id": "dd53fd41-f4ab-4f06-8d76-b0fc2a7090f0",
   "metadata": {},
   "outputs": [
    {
     "data": {
      "text/plain": [
       "'189'"
      ]
     },
     "execution_count": 111,
     "metadata": {},
     "output_type": "execute_result"
    }
   ],
   "source": [
    "img_h = char_soup.find(class_=\"wikia-infobox\").find('img').get('height')"
   ]
  },
  {
   "cell_type": "code",
   "execution_count": 112,
   "id": "2aed72ee-eba7-4d27-b178-4798cd52510b",
   "metadata": {},
   "outputs": [
    {
     "data": {
      "text/plain": [
       "'180'"
      ]
     },
     "execution_count": 112,
     "metadata": {},
     "output_type": "execute_result"
    }
   ],
   "source": [
    "img_w = char_soup.find(class_=\"wikia-infobox\").find('img').get('width')"
   ]
  },
  {
   "cell_type": "code",
   "execution_count": 109,
   "id": "a280a374-715c-4855-a942-af30a0e4a31f",
   "metadata": {},
   "outputs": [
    {
     "data": {
      "text/plain": [
       "('../data/images/Abobo.png', <http.client.HTTPMessage at 0x7fe3c7bf2cb0>)"
      ]
     },
     "execution_count": 109,
     "metadata": {},
     "output_type": "execute_result"
    }
   ],
   "source": [
    "urllib.request.urlretrieve(img_url, f'../data/images/{char_name}.{img_ext}')"
   ]
  },
  {
   "cell_type": "code",
   "execution_count": 56,
   "id": "17a7921b-c826-4191-972a-2b96ad586550",
   "metadata": {},
   "outputs": [
    {
     "data": {
      "text/plain": [
       "8"
      ]
     },
     "execution_count": 56,
     "metadata": {},
     "output_type": "execute_result"
    }
   ],
   "source": [
    "for i,th in enumerate(char_soup.find(class_=\"wikia-infobox\").find_all('th')):\n",
    "    if th.find('a'):\n",
    "        idx = i\n",
    "i"
   ]
  },
  {
   "cell_type": "code",
   "execution_count": 89,
   "id": "594f9634-72d3-46e4-89ae-78527c9f5daf",
   "metadata": {},
   "outputs": [
    {
     "data": {
      "text/plain": [
       "'Neutral Evil'"
      ]
     },
     "execution_count": 89,
     "metadata": {},
     "output_type": "execute_result"
    }
   ],
   "source": [
    "char_alignment = char_soup.find(class_=\"wikia-infobox\").find_all('td')[idx].contents[0].strip('\\n')\n",
    "char_alignment"
   ]
  },
  {
   "cell_type": "code",
   "execution_count": 130,
   "id": "83990ac8-f852-47d2-871a-7fb1cdb746a1",
   "metadata": {},
   "outputs": [
    {
     "name": "stdout",
     "output_type": "stream",
     "text": [
      "0\n"
     ]
    }
   ],
   "source": [
    "if char_soup.find(class_=\"wikia-infobox\").find(class_=\"image\"):\n",
    "    print(1)\n",
    "else:\n",
    "    print(0)"
   ]
  },
  {
   "cell_type": "code",
   "execution_count": 139,
   "id": "6c638677-33bd-4046-9ef1-2db09a5f0995",
   "metadata": {},
   "outputs": [
    {
     "name": "stdout",
     "output_type": "stream",
     "text": [
      "Abobo\n",
      "Abomasnow\n",
      "Adam Jensen\n",
      "Adeleine\n",
      "Adon\n",
      "Aerith Gainsborough\n",
      "Agent 47\n",
      "Aigis\n",
      "Aile\n",
      "Akira Tsuchiya\n",
      "Akira Yuki\n",
      "Akuma\n",
      "Alex Mercer\n",
      "Alm\n",
      "Altaïr Ibn-La'Ahad\n",
      "Alucard (Castlevania)\n",
      "Ami Aiba\n",
      "Amoonguss\n",
      "Amy Rose\n",
      "Amy Sorel\n",
      "Ana (The Child)\n",
      "Ana Amari\n",
      "Angeal Hewley\n",
      "Animdude\n",
      "Ann Takamaki\n",
      "Aqua (Kingdom Hearts)\n",
      "Arceus\n",
      "Archer Oda Nobunaga\n",
      "ARIA\n",
      "Aria Beeze\n",
      "Arthas Menethil\n",
      "Arthur Morgan\n",
      "Artorius Collbrande\n",
      "Aruma Todoroki\n",
      "Asgore Dreemurr\n",
      "Ashura (Skyblazer)\n",
      "Asriel Dreemurr\n",
      "Astro Boy\n",
      "Asuka Kazama\n",
      "Asura (Asura's Wrath)\n",
      "CategoryAsura's Wrath\n",
      "Athena Asamiya\n",
      "Augus\n",
      "Auron\n",
      "Axel (Kingdom Hearts)\n",
      "Ayumu Fujimori\n",
      "Azelf\n",
      "Balrog (Street Fighter)\n",
      "Banjo\n",
      "CategoryBanjo Kazooie\n",
      "Baraka\n",
      "Barret Wallace\n",
      "Bash\n",
      "Bass.EXE\n",
      "Bastion\n",
      "Bayonetta (character)\n",
      "Beck (Mighty No. 9)\n",
      "Bendy\n",
      "CategoryBethesda Softworks\n",
      "Big Boss\n",
      "Big Smoke\n",
      "Bill Rizer\n",
      "Billy and Jimmy Lee\n",
      "Birdo\n",
      "Black Orchid\n",
      "Blanka\n",
      "Blastoise\n",
      "Blaze The Cat\n",
      "Blaziken\n",
      "CategoryBloody Roar\n",
      "Bolo\n",
      "CategoryBomberman\n",
      "Bowser\n",
      "Bowser Jr.\n",
      "Bren McGuire\n",
      "Bryan Fury\n",
      "Bubsy the Bobcat\n",
      "Byte & Barq\n",
      "Cait Sith\n",
      "Cammy White\n",
      "Captain Falcon\n",
      "Captain Qwark\n",
      "Carl Johnson\n",
      "Cassie Cage\n",
      "Caster Leonardo da Vinci\n",
      "CategoryCastlevania\n",
      "Cecile (Psychic World)\n",
      "Celestial Pillars (Terraria)\n",
      "Chaos (Sonic the Hedgehog)\n",
      "Charizard\n",
      "Chase McCain\n",
      "Chaz Ashley\n",
      "Chica`s Magic Rainbow\n",
      "Chicken\n",
      "Chilly Willy\n",
      "Chopscotch\n",
      "Chris Redfield\n",
      "CategoryChrono\n",
      "Chuck E. Cheese (character)\n",
      "Chun-Li\n",
      "Cid Highwind\n",
      "Clank (Ratchet & Clank)\n",
      "Claude (Grand Theft Auto)\n",
      "Clementine (The Walking Dead)\n",
      "Cloud Strife\n",
      "Cobalion\n",
      "Coco Bandicoot\n",
      "Cody Travers\n",
      "Cole MacGrath\n",
      "Commander Shepard\n",
      "CorruptionCrimsonHallowed\n",
      "CategoryCrash Bandicoot\n",
      "Crash Bandicoot (character)\n",
      "Cream the Rabbit\n",
      "Creeper (Minecraft)\n",
      "Crono\n",
      "Cuphead & Mugman\n",
      "Cynder (Legends)\n",
      "Cyrax\n",
      "D.Va\n",
      "Dan Hibiki\n",
      "Danny Phantom\n",
      "Dante (Devil May Cry)\n",
      "Dark Pit\n",
      "Dark Samus\n",
      "CategoryDark Souls\n",
      "Darkrai\n",
      "CategoryDarkstalkers\n",
      "Darmanitan\n",
      "CategoryDead or Alive\n",
      "CategoryDead Rising\n",
      "Death (Castlevania)\n",
      "Decidueye\n",
      "Deejay\n",
      "Delibird\n",
      "Delsin Rowe\n",
      "Demyx\n",
      "Deoxys\n",
      "Descendant of ErdrickRoto\n",
      "Detective Pikachu\n",
      "Deus\n",
      "CategoryDevil May Cry\n",
      "Dhalsim\n",
      "Dimentio\n",
      "CategoryDisgaea\n",
      "Ditto\n",
      "Doctor Nefarious\n",
      "Doctor Neo Cortex\n",
      "Donkey Kong (character)\n",
      "Doomfist\n",
      "Doomguy\n",
      "CategoryDouble Dragon\n",
      "Dr. Eggman\n",
      "Dracula (Castlevania)\n",
      "CategoryDragon Quest\n",
      "Dunsparce\n",
      "Dust\n",
      "E-102 Gamma\n",
      "E-123 Omega\n",
      "Ecco the Dolphin\n",
      "Eevee\n",
      "Eizen\n",
      "Elder God (Legacy of Kain)\n",
      "Eleanor Hume\n",
      "Elena\n",
      "Elena (FFVII)\n",
      "Elf (Gauntlet)\n",
      "Emi (Dance Dance Revolution)\n",
      "Empress of Light\n",
      "Enderman\n",
      "Endou Mamoru\n",
      "CategoryEpic Battle Fantasy\n",
      "Erron Black\n",
      "Escavalier\n",
      "Ethan Winters\n",
      "CategoryExecuted\n",
      "Exeggutor\n",
      "CategoryF-Zero\n",
      "Fall Guy\n",
      "CategoryFatal Fury\n",
      "Fearow\n",
      "Fei Fong Wong\n",
      "Fei Long\n",
      "Felicia\n",
      "CategoryFighting Game Characters\n",
      "Finn the Human\n",
      "Fiora\n",
      "CategoryFire Emblem\n",
      "Fireblight Ganon\n",
      "Firebrand\n",
      "Fleming (Cel Damage)\n",
      "Flowey\n",
      "Fluffy\n",
      "Flygon\n",
      "Fox McCloud\n",
      "Frank West\n",
      "Franklin Clinton\n",
      "Freyja\n",
      "Frisk\n",
      "Frost (Mortal Kombat)\n",
      "Fulgore\n",
      "Ganondorf\n",
      "Gardevoir\n",
      "CategoryGears of War\n",
      "Genesis Rhapsodos\n",
      "Gengar\n",
      "Genji Shimada\n",
      "Geno\n",
      "Geo Stellar\n",
      "Georg Heldalf\n",
      "Ghirahim\n",
      "CategoryGhosts 'n Goblins\n",
      "Giovanni\n",
      "Giygas\n",
      "Glacius\n",
      "Gladion\n",
      "Glamrock Bonnie\n",
      "Glamrock Chica\n",
      "Glamrock Freddy\n",
      "Glass Joe\n",
      "Gliscor\n",
      "Glitchtrap\n",
      "CategoryGod Of War\n",
      "Goemon (Ganbare Goemon)\n",
      "Gohma Vlitra\n",
      "Goht\n",
      "CategoryGolden Sun\n",
      "Golurk\n",
      "Gordon Freeman\n",
      "Goro\n",
      "Goro Akechi\n",
      "Goro Majima\n",
      "Gouken\n",
      "CategoryGrand Theft Auto\n",
      "Gray Fox\n",
      "Greninja\n",
      "GTA Online Protagonist\n",
      "Guan Yu\n",
      "Guide (Terraria)\n",
      "Guile\n",
      "CategoryGuilty Gear\n",
      "Guy (Street Fighter)\n",
      "Gyorg\n",
      "Hank J. Wimbleton\n",
      "Hanzo Shimada\n",
      "Haohmaru\n",
      "Hat Kid\n",
      "Hatsune Miku\n",
      "Hawlucha\n",
      "Haxorus\n",
      "Henry Stickmin (character)\n",
      "Heracross\n",
      "Hsien-Ko\n",
      "Hsu Hao\n",
      "CategoryHudson Soft\n",
      "Hugo (Final Fight)\n",
      "Huitzil\n",
      "Hylden Lord\n",
      "Ibuki\n",
      "Ice Climbers\n",
      "Igos du Ikana\n",
      "Ike\n",
      "Illidan Stormrage\n",
      "Impa\n",
      "Impostor (Among Us)\n",
      "CategoryIndieDoujin Characters\n",
      "Infernape\n",
      "Infinite\n",
      "Inkling\n",
      "Innominat\n",
      "Iroha\n",
      "Isaac (Golden Sun)\n",
      "Isabelle\n",
      "Ivy Valentine\n",
      "Jack Baker\n",
      "Jack Cooper\n",
      "Jade (Beyond Good & Evil)\n",
      "Jago\n",
      "Jak\n",
      "James Heller\n",
      "Jason Voorhees\n",
      "Jax Briggs\n",
      "Jenova\n",
      "Jessica Albert\n",
      "Jetstream Sam\n",
      "Jiao\n",
      "Jibanyan\n",
      "Jill Valentine\n",
      "Jim Raynor\n",
      "Jimmy Hopkins\n",
      "Jin (Xenoblade Chronicles)\n",
      "Jin Kazama\n",
      "Jin Kisaragi\n",
      "John Marston\n",
      "Johnny Cage\n",
      "Jon Talbain\n",
      "CategoryJRPG Characters\n",
      "Jumpluff\n",
      "Jumpman Mario (N.E.S.)\n",
      "Junkrat\n",
      "Juri Han\n",
      "Kaede Sakurane\n",
      "Kain (Legacy of Kain)\n",
      "Kaos\n",
      "Kasumi Izumo\n",
      "Kazooie\n",
      "Kazuomi Samejima\n",
      "Kazuya Mishima\n",
      "Kefka Palazzo\n",
      "Kego Sakuma\n",
      "Keith Martin\n",
      "Ken Masters\n",
      "Kenshi\n",
      "CategoryKid Icarus\n",
      "Kilgore\n",
      "CategoryKiller Instinct\n",
      "King Bob-Omb\n",
      "King Boo\n",
      "King Dedede\n",
      "King Dice\n",
      "King Mickey\n",
      "CategoryKing of Fighters\n",
      "CategoryKingdom Hearts\n",
      "Kintaro\n",
      "Kirby\n",
      "CategoryKirby\n",
      "Kiriko (Overwatch)\n",
      "Kitana\n",
      "Klonoa (character)\n",
      "Knuckles the Echidna\n",
      "CategoryKoei Tecmo\n",
      "CategoryKonami\n",
      "Kratos\n",
      "Kula Diamond\n",
      "Kumatora\n",
      "Kung Lao\n",
      "Kunio\n",
      "Kuros\n",
      "Kurtis Stryker\n",
      "Ky Kiske\n",
      "Kyoko (Kunio-kun)\n",
      "CategoryLab Zero Games\n",
      "Labrys\n",
      "Laharl\n",
      "Lancer Scáthach\n",
      "Laphicet\n",
      "Lara Croft\n",
      "Larxene\n",
      "Lee Chaolan\n",
      "Lee Everett\n",
      "Lego Iron man\n",
      "Legretta\n",
      "Lenneth Valkyrie\n",
      "Leon Belmont\n",
      "Leon Kennedy\n",
      "Lightning Farron\n",
      "Lila Alphon\n",
      "Ling Xiaoyu\n",
      "Link (A Link to the Past)\n",
      "Link (Breath of the Wild)\n",
      "Link (CDi)\n",
      "Link (Hyrule Warriors)\n",
      "Link (Minish Cap)\n",
      "Link (Skyward Sword)\n",
      "Link (The Legend of Zelda)\n",
      "Link (Twilight Princess)\n",
      "Little Mac\n",
      "Liu Bei\n",
      "Liu Kang\n",
      "Lloyd (The Legend of Dragoon)\n",
      "Lockdown (G1)\n",
      "Lola Pop\n",
      "Lord Woo Fak Fak\n",
      "Lu Bu\n",
      "Luca Blight\n",
      "Lucario\n",
      "Lucas\n",
      "Lucia (Devil May Cry)\n",
      "Lucina\n",
      "Ludger Will Kresnik\n",
      "Ludwig von Koopa\n",
      "Lugnut (G1)\n",
      "Luigi\n",
      "Lunatic Cultist\n",
      "Lusamine\n",
      "Luvdisc\n",
      "Lyndis\n",
      "Lúcio Correia dos Santos\n",
      "M. Bison\n",
      "Machamp\n",
      "Magilou Mayvin\n",
      "Maiko Kagura\n",
      "Majora's Mask\n",
      "Makoto Niijima\n",
      "Malek\n",
      "Malos\n",
      "Maotelus\n",
      "Marco Rossi (Metal Slug)\n",
      "Marcus Fenix\n",
      "Maria Renard\n",
      "Marin Mizuta\n",
      "Mario\n",
      "Marth\n",
      "Mary (Phantom Continent Aurelia)\n",
      "Master Chief\n",
      "Master Hand\n",
      "Master Xehanort\n",
      "Matsukaze Tenma\n",
      "Matt (Epic Battle Fantasy)\n",
      "Mavado\n",
      "Max Brass\n",
      "Maxwell (Scribblenauts)\n",
      "McCree\n",
      "Mechanica\n",
      "CategoryMega Man\n",
      "Mega Man (character)\n",
      "Mega Man Volnutt\n",
      "MegaMan.EXE\n",
      "Megatron (WFC)\n",
      "Mei-Ling Zhou\n",
      "Melchior Mayvin\n",
      "Mephiles the Dark\n",
      "Mercy\n",
      "Meta Knight\n",
      "Metabee\n",
      "Metal Face\n",
      "CategoryMetal Gear\n",
      "Metal Mario\n",
      "CategoryMetal Max\n",
      "CategoryMetal Slug\n",
      "Metal Sonic\n",
      "CategoryMetroid\n",
      "Mettaton\n",
      "Mew\n",
      "Mewtwo\n",
      "Michael De Santa\n",
      "Mike Haggar\n",
      "Mikoto Itsuki\n",
      "Miles Tails Prower\n",
      "Mimikyu\n",
      "Min Min\n",
      "CategoryMinecraft\n",
      "Minecraft Dungeons Player\n",
      "Misako (Kunio-kun)\n",
      "Misuzu (Kunio-kun)\n",
      "Mitsunari Koga\n",
      "Mitsuru Kirijo\n",
      "Monika\n",
      "Monkey D. Luffy\n",
      "Monodora\n",
      "Monsoon\n"
     ]
    },
    {
     "ename": "TypeError",
     "evalue": "'NoneType' object is not callable",
     "output_type": "error",
     "traceback": [
      "\u001b[0;31m---------------------------------------------------------------------------\u001b[0m",
      "\u001b[0;31mTypeError\u001b[0m                                 Traceback (most recent call last)",
      "Cell \u001b[0;32mIn[139], line 25\u001b[0m\n\u001b[1;32m     23\u001b[0m \u001b[38;5;28;01mif\u001b[39;00m th\u001b[38;5;241m.\u001b[39mfind(\u001b[38;5;124m'\u001b[39m\u001b[38;5;124ma\u001b[39m\u001b[38;5;124m'\u001b[39m):\n\u001b[1;32m     24\u001b[0m     idx \u001b[38;5;241m=\u001b[39m i\n\u001b[0;32m---> 25\u001b[0m     char_alignment \u001b[38;5;241m=\u001b[39m \u001b[43mchar_soup\u001b[49m\u001b[38;5;241;43m.\u001b[39;49m\u001b[43mfind\u001b[49m\u001b[43m(\u001b[49m\u001b[43mclass_\u001b[49m\u001b[38;5;241;43m=\u001b[39;49m\u001b[38;5;124;43m\"\u001b[39;49m\u001b[38;5;124;43mwikia-infobox\u001b[39;49m\u001b[38;5;124;43m\"\u001b[39;49m\u001b[43m)\u001b[49m\u001b[38;5;241;43m.\u001b[39;49m\u001b[43mfind_all\u001b[49m\u001b[43m(\u001b[49m\u001b[38;5;124;43m'\u001b[39;49m\u001b[38;5;124;43mtd\u001b[39;49m\u001b[38;5;124;43m'\u001b[39;49m\u001b[43m)\u001b[49m\u001b[43m[\u001b[49m\u001b[43midx\u001b[49m\u001b[43m]\u001b[49m\u001b[38;5;241;43m.\u001b[39;49m\u001b[43mcontents\u001b[49m\u001b[43m[\u001b[49m\u001b[38;5;241;43m0\u001b[39;49m\u001b[43m]\u001b[49m\u001b[38;5;241;43m.\u001b[39;49m\u001b[43mstrip\u001b[49m\u001b[43m(\u001b[49m\u001b[38;5;124;43m'\u001b[39;49m\u001b[38;5;130;43;01m\\n\u001b[39;49;00m\u001b[38;5;124;43m'\u001b[39;49m\u001b[43m)\u001b[49m\n\u001b[1;32m     26\u001b[0m     accumulator\u001b[38;5;241m.\u001b[39mappend([char_name, char_alignment, img_h, img_w, img_url])\n\u001b[1;32m     27\u001b[0m     time\u001b[38;5;241m.\u001b[39msleep(\u001b[38;5;241m1\u001b[39m) \n",
      "\u001b[0;31mTypeError\u001b[0m: 'NoneType' object is not callable"
     ]
    }
   ],
   "source": [
    "accumulator = []\n",
    "for c in alc:\n",
    "    response = requests.get(url + list_query + c)\n",
    "    soup = BeautifulSoup(response.text, 'html.parser')\n",
    "    char_blocks = soup.find_all(class_=\"category-page__member\")\n",
    "    for char_block in char_blocks:\n",
    "        char_dir = char_block.find('a').attrs['href']\n",
    "        char_name = char_block.find('a').attrs['title']\n",
    "        invalid = '<>:\"/\\|?*'\n",
    "        for char in invalid:\n",
    "        \tchar_name = char_name.replace(char, '')\n",
    "        print(char_name)\n",
    "        char_response = requests.get(url + char_dir)\n",
    "        char_soup = BeautifulSoup(char_response.text, 'html.parser')\n",
    "        if char_soup.find(class_=\"wikia-infobox\"):\n",
    "            if char_soup.find(class_=\"wikia-infobox\").find(class_=\"image\"):\n",
    "                img_url = char_soup.find(class_=\"wikia-infobox\").find(class_=\"image\").attrs['href']\n",
    "                img_ext = char_soup.find(class_=\"wikia-infobox\").find('img').get('data-image-name').split('.')[-1]\n",
    "                img_h = char_soup.find(class_=\"wikia-infobox\").find('img').get('height')\n",
    "                img_w = char_soup.find(class_=\"wikia-infobox\").find('img').get('width')    \n",
    "                urllib.request.urlretrieve(img_url, f'../data/images/{char_name}.{img_ext}')\n",
    "                for i,th in enumerate(char_soup.find(class_=\"wikia-infobox\").find_all('th')):\n",
    "                    if th.find('a'):\n",
    "                        idx = i\n",
    "                        char_alignment = char_soup.find(class_=\"wikia-infobox\").find_all('td')[idx].contents[0].strip('\\n')\n",
    "                        accumulator.append([char_name, char_alignment, f'{char_name}.{img_ext}', img_h, img_w, img_url])\n",
    "                        time.sleep(1) "
   ]
  },
  {
   "cell_type": "code",
   "execution_count": null,
   "id": "a26cbeae-6caf-43eb-8c92-b344b8ffbb4b",
   "metadata": {},
   "outputs": [],
   "source": [
    "accumulator = accumulator[:-"
   ]
  },
  {
   "cell_type": "code",
   "execution_count": 140,
   "id": "620cec28-43ec-4193-a112-75ca74ff0bf2",
   "metadata": {
    "scrolled": true
   },
   "outputs": [
    {
     "data": {
      "text/html": [
       "<div>\n",
       "<style scoped>\n",
       "    .dataframe tbody tr th:only-of-type {\n",
       "        vertical-align: middle;\n",
       "    }\n",
       "\n",
       "    .dataframe tbody tr th {\n",
       "        vertical-align: top;\n",
       "    }\n",
       "\n",
       "    .dataframe thead th {\n",
       "        text-align: right;\n",
       "    }\n",
       "</style>\n",
       "<table border=\"1\" class=\"dataframe\">\n",
       "  <thead>\n",
       "    <tr style=\"text-align: right;\">\n",
       "      <th></th>\n",
       "      <th>Name</th>\n",
       "      <th>Alignment</th>\n",
       "      <th>Image Height</th>\n",
       "      <th>Image Width</th>\n",
       "      <th>Image URL</th>\n",
       "    </tr>\n",
       "  </thead>\n",
       "  <tbody>\n",
       "    <tr>\n",
       "      <th>0</th>\n",
       "      <td>Abobo</td>\n",
       "      <td>Neutral Evil</td>\n",
       "      <td>189</td>\n",
       "      <td>180</td>\n",
       "      <td>https://static.wikia.nocookie.net/characterpro...</td>\n",
       "    </tr>\n",
       "    <tr>\n",
       "      <th>1</th>\n",
       "      <td>Abomasnow</td>\n",
       "      <td>True Neutral</td>\n",
       "      <td>220</td>\n",
       "      <td>220</td>\n",
       "      <td>https://static.wikia.nocookie.net/characterpro...</td>\n",
       "    </tr>\n",
       "    <tr>\n",
       "      <th>2</th>\n",
       "      <td>Adam Jensen</td>\n",
       "      <td>Chaotic Good</td>\n",
       "      <td>440</td>\n",
       "      <td>300</td>\n",
       "      <td>https://static.wikia.nocookie.net/characterpro...</td>\n",
       "    </tr>\n",
       "    <tr>\n",
       "      <th>3</th>\n",
       "      <td>Aerith Gainsborough</td>\n",
       "      <td>Neutral Good</td>\n",
       "      <td>413</td>\n",
       "      <td>270</td>\n",
       "      <td>https://static.wikia.nocookie.net/characterpro...</td>\n",
       "    </tr>\n",
       "    <tr>\n",
       "      <th>4</th>\n",
       "      <td>Agent 47</td>\n",
       "      <td>Neutral Good</td>\n",
       "      <td>240</td>\n",
       "      <td>180</td>\n",
       "      <td>https://static.wikia.nocookie.net/characterpro...</td>\n",
       "    </tr>\n",
       "    <tr>\n",
       "      <th>...</th>\n",
       "      <td>...</td>\n",
       "      <td>...</td>\n",
       "      <td>...</td>\n",
       "      <td>...</td>\n",
       "      <td>...</td>\n",
       "    </tr>\n",
       "    <tr>\n",
       "      <th>293</th>\n",
       "      <td>Min Min</td>\n",
       "      <td>Neutral Good</td>\n",
       "      <td>280</td>\n",
       "      <td>280</td>\n",
       "      <td>https://static.wikia.nocookie.net/characterpro...</td>\n",
       "    </tr>\n",
       "    <tr>\n",
       "      <th>294</th>\n",
       "      <td>Misako (Kunio-kun)</td>\n",
       "      <td>Chaotic Good</td>\n",
       "      <td>554</td>\n",
       "      <td>180</td>\n",
       "      <td>https://static.wikia.nocookie.net/characterpro...</td>\n",
       "    </tr>\n",
       "    <tr>\n",
       "      <th>295</th>\n",
       "      <td>Misuzu (Kunio-kun)</td>\n",
       "      <td>Neutral Evil</td>\n",
       "      <td>293</td>\n",
       "      <td>151</td>\n",
       "      <td>https://static.wikia.nocookie.net/characterpro...</td>\n",
       "    </tr>\n",
       "    <tr>\n",
       "      <th>296</th>\n",
       "      <td>Mitsuru Kirijo</td>\n",
       "      <td>Neutral Good</td>\n",
       "      <td>294</td>\n",
       "      <td>270</td>\n",
       "      <td>https://static.wikia.nocookie.net/characterpro...</td>\n",
       "    </tr>\n",
       "    <tr>\n",
       "      <th>297</th>\n",
       "      <td>Monkey D. Luffy</td>\n",
       "      <td>Chaotic Good</td>\n",
       "      <td>442</td>\n",
       "      <td>250</td>\n",
       "      <td>https://static.wikia.nocookie.net/characterpro...</td>\n",
       "    </tr>\n",
       "  </tbody>\n",
       "</table>\n",
       "<p>298 rows × 5 columns</p>\n",
       "</div>"
      ],
      "text/plain": [
       "                    Name     Alignment Image Height Image Width  \\\n",
       "0                  Abobo  Neutral Evil          189         180   \n",
       "1              Abomasnow  True Neutral          220         220   \n",
       "2            Adam Jensen  Chaotic Good          440         300   \n",
       "3    Aerith Gainsborough  Neutral Good          413         270   \n",
       "4               Agent 47  Neutral Good          240         180   \n",
       "..                   ...           ...          ...         ...   \n",
       "293              Min Min  Neutral Good          280         280   \n",
       "294   Misako (Kunio-kun)  Chaotic Good          554         180   \n",
       "295   Misuzu (Kunio-kun)  Neutral Evil          293         151   \n",
       "296       Mitsuru Kirijo  Neutral Good          294         270   \n",
       "297      Monkey D. Luffy  Chaotic Good          442         250   \n",
       "\n",
       "                                             Image URL  \n",
       "0    https://static.wikia.nocookie.net/characterpro...  \n",
       "1    https://static.wikia.nocookie.net/characterpro...  \n",
       "2    https://static.wikia.nocookie.net/characterpro...  \n",
       "3    https://static.wikia.nocookie.net/characterpro...  \n",
       "4    https://static.wikia.nocookie.net/characterpro...  \n",
       "..                                                 ...  \n",
       "293  https://static.wikia.nocookie.net/characterpro...  \n",
       "294  https://static.wikia.nocookie.net/characterpro...  \n",
       "295  https://static.wikia.nocookie.net/characterpro...  \n",
       "296  https://static.wikia.nocookie.net/characterpro...  \n",
       "297  https://static.wikia.nocookie.net/characterpro...  \n",
       "\n",
       "[298 rows x 5 columns]"
      ]
     },
     "execution_count": 140,
     "metadata": {},
     "output_type": "execute_result"
    }
   ],
   "source": [
    "df = df = pd.DataFrame(accumulator, columns=['Name', 'Alignment', 'Image Height', 'Image Width', 'Image URL'])\n",
    "df"
   ]
  },
  {
   "cell_type": "code",
   "execution_count": 173,
   "id": "f33af074-61b8-4c8d-826f-37562d4ff02c",
   "metadata": {},
   "outputs": [
    {
     "data": {
      "text/plain": [
       "'Mitsuru Kirijo'"
      ]
     },
     "execution_count": 173,
     "metadata": {},
     "output_type": "execute_result"
    }
   ],
   "source": [
    "df['Name'].iloc[-2]"
   ]
  },
  {
   "cell_type": "code",
   "execution_count": 177,
   "id": "d2d02a5d-e74c-4869-a1d6-735929f0606d",
   "metadata": {},
   "outputs": [
    {
     "data": {
      "text/plain": [
       "'Mitsuru Kirijo.png'"
      ]
     },
     "execution_count": 177,
     "metadata": {},
     "output_type": "execute_result"
    }
   ],
   "source": [
    "df['Name'].iloc[-2] + \".\" + img_ext"
   ]
  },
  {
   "cell_type": "code",
   "execution_count": 185,
   "id": "f2375729-f4ae-42cf-8ad0-de9dcf30b8ed",
   "metadata": {},
   "outputs": [
    {
     "data": {
      "text/plain": [
       "(294.0, 270.0)"
      ]
     },
     "execution_count": 185,
     "metadata": {},
     "output_type": "execute_result"
    }
   ],
   "source": [
    "float(df['Image Height'].iloc[-2]) , float(df['Image Width'].iloc[-2])"
   ]
  },
  {
   "cell_type": "code",
   "execution_count": 184,
   "id": "478e0374-d323-42b6-ae21-8c29f303c4b6",
   "metadata": {},
   "outputs": [
    {
     "data": {
      "text/plain": [
       "(1813, 1972)"
      ]
     },
     "execution_count": 184,
     "metadata": {},
     "output_type": "execute_result"
    }
   ],
   "source": [
    "from PIL import Image\n",
    "\n",
    "width, height = Image.open('../data/images/' + df['Name'].iloc[-2] + \".\" + img_ext).size\n",
    "width,height"
   ]
  },
  {
   "cell_type": "code",
   "execution_count": 187,
   "id": "7c04bfa0-af28-4f50-bc04-84bf6c97fa27",
   "metadata": {
    "scrolled": true
   },
   "outputs": [
    {
     "data": {
      "text/html": [
       "<div>\n",
       "<style scoped>\n",
       "    .dataframe tbody tr th:only-of-type {\n",
       "        vertical-align: middle;\n",
       "    }\n",
       "\n",
       "    .dataframe tbody tr th {\n",
       "        vertical-align: top;\n",
       "    }\n",
       "\n",
       "    .dataframe thead th {\n",
       "        text-align: right;\n",
       "    }\n",
       "</style>\n",
       "<table border=\"1\" class=\"dataframe\">\n",
       "  <thead>\n",
       "    <tr style=\"text-align: right;\">\n",
       "      <th></th>\n",
       "      <th>Name</th>\n",
       "      <th>Image fName</th>\n",
       "      <th>Image Height</th>\n",
       "    </tr>\n",
       "  </thead>\n",
       "  <tbody>\n",
       "    <tr>\n",
       "      <th>0</th>\n",
       "      <td>0</td>\n",
       "      <td>1</td>\n",
       "      <td>2</td>\n",
       "    </tr>\n",
       "    <tr>\n",
       "      <th>1</th>\n",
       "      <td>1</td>\n",
       "      <td>2</td>\n",
       "      <td>3</td>\n",
       "    </tr>\n",
       "    <tr>\n",
       "      <th>2</th>\n",
       "      <td>2</td>\n",
       "      <td>3</td>\n",
       "      <td>4</td>\n",
       "    </tr>\n",
       "    <tr>\n",
       "      <th>3</th>\n",
       "      <td>3</td>\n",
       "      <td>4</td>\n",
       "      <td>5</td>\n",
       "    </tr>\n",
       "    <tr>\n",
       "      <th>4</th>\n",
       "      <td>4</td>\n",
       "      <td>5</td>\n",
       "      <td>6</td>\n",
       "    </tr>\n",
       "  </tbody>\n",
       "</table>\n",
       "</div>"
      ],
      "text/plain": [
       "   Name  Image fName  Image Height\n",
       "0     0            1             2\n",
       "1     1            2             3\n",
       "2     2            3             4\n",
       "3     3            4             5\n",
       "4     4            5             6"
      ]
     },
     "execution_count": 187,
     "metadata": {},
     "output_type": "execute_result"
    }
   ],
   "source": [
    "columns = ['Name', 'Image fName', 'Image Height']\n",
    "\n",
    "accumulator = []\n",
    "for a in range(5):\n",
    "    accumulator.append({columns[0]:a,columns[1]:a+1,columns[2]:a+2})\n",
    "\n",
    "df_test = pd.DataFrame(accumulator)\n",
    "df_test"
   ]
  },
  {
   "cell_type": "code",
   "execution_count": 188,
   "id": "35a2ac75-4c3f-4ff7-a1e4-50b5a35ec887",
   "metadata": {
    "scrolled": true
   },
   "outputs": [
    {
     "data": {
      "text/plain": [
       "{'Name': None, 'Image fName': None, 'Image Height': None}"
      ]
     },
     "execution_count": 188,
     "metadata": {},
     "output_type": "execute_result"
    }
   ],
   "source": [
    "char_dict = dict.fromkeys(columns)\n",
    "char_dict"
   ]
  },
  {
   "cell_type": "code",
   "execution_count": 190,
   "id": "04dbf16e-1a29-4794-8cc4-4fafa9444bc4",
   "metadata": {},
   "outputs": [
    {
     "data": {
      "text/plain": [
       "[]"
      ]
     },
     "execution_count": 190,
     "metadata": {},
     "output_type": "execute_result"
    }
   ],
   "source": [
    "df_test = pd.DataFrame(columns=columns)\n",
    "df_test['Name'].tolist()"
   ]
  },
  {
   "cell_type": "code",
   "execution_count": 194,
   "id": "f358849f-239d-4373-8638-ad6d001008fb",
   "metadata": {},
   "outputs": [],
   "source": [
    "columns=['Name', 'Alignment', 'Image Height', 'Image Width']"
   ]
  },
  {
   "cell_type": "code",
   "execution_count": 195,
   "id": "04d0d5b6-0862-4760-afed-ea194e909318",
   "metadata": {},
   "outputs": [
    {
     "data": {
      "text/html": [
       "<div>\n",
       "<style scoped>\n",
       "    .dataframe tbody tr th:only-of-type {\n",
       "        vertical-align: middle;\n",
       "    }\n",
       "\n",
       "    .dataframe tbody tr th {\n",
       "        vertical-align: top;\n",
       "    }\n",
       "\n",
       "    .dataframe thead th {\n",
       "        text-align: right;\n",
       "    }\n",
       "</style>\n",
       "<table border=\"1\" class=\"dataframe\">\n",
       "  <thead>\n",
       "    <tr style=\"text-align: right;\">\n",
       "      <th></th>\n",
       "      <th>Name</th>\n",
       "      <th>Alignment</th>\n",
       "      <th>Image Height</th>\n",
       "      <th>Image Width</th>\n",
       "    </tr>\n",
       "  </thead>\n",
       "  <tbody>\n",
       "    <tr>\n",
       "      <th>0</th>\n",
       "      <td>Abobo</td>\n",
       "      <td>Neutral Evil</td>\n",
       "      <td>189</td>\n",
       "      <td>180</td>\n",
       "    </tr>\n",
       "    <tr>\n",
       "      <th>1</th>\n",
       "      <td>Abomasnow</td>\n",
       "      <td>True Neutral</td>\n",
       "      <td>220</td>\n",
       "      <td>220</td>\n",
       "    </tr>\n",
       "    <tr>\n",
       "      <th>2</th>\n",
       "      <td>Adam Jensen</td>\n",
       "      <td>Chaotic Good</td>\n",
       "      <td>440</td>\n",
       "      <td>300</td>\n",
       "    </tr>\n",
       "    <tr>\n",
       "      <th>3</th>\n",
       "      <td>Aerith Gainsborough</td>\n",
       "      <td>Neutral Good</td>\n",
       "      <td>413</td>\n",
       "      <td>270</td>\n",
       "    </tr>\n",
       "    <tr>\n",
       "      <th>4</th>\n",
       "      <td>Agent 47</td>\n",
       "      <td>Neutral Good</td>\n",
       "      <td>240</td>\n",
       "      <td>180</td>\n",
       "    </tr>\n",
       "    <tr>\n",
       "      <th>...</th>\n",
       "      <td>...</td>\n",
       "      <td>...</td>\n",
       "      <td>...</td>\n",
       "      <td>...</td>\n",
       "    </tr>\n",
       "    <tr>\n",
       "      <th>293</th>\n",
       "      <td>Min Min</td>\n",
       "      <td>Neutral Good</td>\n",
       "      <td>280</td>\n",
       "      <td>280</td>\n",
       "    </tr>\n",
       "    <tr>\n",
       "      <th>294</th>\n",
       "      <td>Misako (Kunio-kun)</td>\n",
       "      <td>Chaotic Good</td>\n",
       "      <td>554</td>\n",
       "      <td>180</td>\n",
       "    </tr>\n",
       "    <tr>\n",
       "      <th>295</th>\n",
       "      <td>Misuzu (Kunio-kun)</td>\n",
       "      <td>Neutral Evil</td>\n",
       "      <td>293</td>\n",
       "      <td>151</td>\n",
       "    </tr>\n",
       "    <tr>\n",
       "      <th>296</th>\n",
       "      <td>Mitsuru Kirijo</td>\n",
       "      <td>Neutral Good</td>\n",
       "      <td>294</td>\n",
       "      <td>270</td>\n",
       "    </tr>\n",
       "    <tr>\n",
       "      <th>297</th>\n",
       "      <td>Monkey D. Luffy</td>\n",
       "      <td>Chaotic Good</td>\n",
       "      <td>442</td>\n",
       "      <td>250</td>\n",
       "    </tr>\n",
       "  </tbody>\n",
       "</table>\n",
       "<p>298 rows × 4 columns</p>\n",
       "</div>"
      ],
      "text/plain": [
       "                    Name     Alignment Image Height Image Width\n",
       "0                  Abobo  Neutral Evil          189         180\n",
       "1              Abomasnow  True Neutral          220         220\n",
       "2            Adam Jensen  Chaotic Good          440         300\n",
       "3    Aerith Gainsborough  Neutral Good          413         270\n",
       "4               Agent 47  Neutral Good          240         180\n",
       "..                   ...           ...          ...         ...\n",
       "293              Min Min  Neutral Good          280         280\n",
       "294   Misako (Kunio-kun)  Chaotic Good          554         180\n",
       "295   Misuzu (Kunio-kun)  Neutral Evil          293         151\n",
       "296       Mitsuru Kirijo  Neutral Good          294         270\n",
       "297      Monkey D. Luffy  Chaotic Good          442         250\n",
       "\n",
       "[298 rows x 4 columns]"
      ]
     },
     "execution_count": 195,
     "metadata": {},
     "output_type": "execute_result"
    }
   ],
   "source": [
    "df[columns]"
   ]
  }
 ],
 "metadata": {
  "kernelspec": {
   "display_name": "Python 3 (ipykernel)",
   "language": "python",
   "name": "python3"
  },
  "language_info": {
   "codemirror_mode": {
    "name": "ipython",
    "version": 3
   },
   "file_extension": ".py",
   "mimetype": "text/x-python",
   "name": "python",
   "nbconvert_exporter": "python",
   "pygments_lexer": "ipython3",
   "version": "3.10.6"
  }
 },
 "nbformat": 4,
 "nbformat_minor": 5
}
