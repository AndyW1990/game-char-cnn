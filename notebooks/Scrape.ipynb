{
 "cells": [
  {
   "cell_type": "code",
   "execution_count": 224,
   "id": "141ad33a-e4d1-487b-81dd-bb536f0ed410",
   "metadata": {},
   "outputs": [
    {
     "name": "stdout",
     "output_type": "stream",
     "text": [
      "The autoreload extension is already loaded. To reload it, use:\n",
      "  %reload_ext autoreload\n"
     ]
    }
   ],
   "source": [
    "%load_ext autoreload\n",
    "%autoreload 2\n",
    "import os\n",
    "import time\n",
    "import requests\n",
    "import urllib.request\n",
    "from bs4 import BeautifulSoup\n",
    "from string import ascii_lowercase as alc\n",
    "from PIL import Image\n",
    "\n",
    "import numpy as np\n",
    "import pandas as pd\n",
    "\n",
    "%matplotlib inline\n",
    "import matplotlib"
   ]
  },
  {
   "cell_type": "code",
   "execution_count": 20,
   "id": "e6eea04c-f589-4ca9-a55e-9b771c46edca",
   "metadata": {},
   "outputs": [],
   "source": [
    "url = \"https://characterprofile.fandom.com\"\n",
    "list_query = \"/wiki/Category:Video_Game_Characters?from=\"\n",
    "page_query = \"A\""
   ]
  },
  {
   "cell_type": "code",
   "execution_count": 23,
   "id": "a542984c-cb27-4e0c-8d5a-e09b4797c681",
   "metadata": {},
   "outputs": [],
   "source": [
    "response = requests.get(url + list_query + page_query)\n",
    "soup = BeautifulSoup(response.text, 'html.parser')"
   ]
  },
  {
   "cell_type": "code",
   "execution_count": 24,
   "id": "f222e908-a371-400e-95c1-48550bf15c51",
   "metadata": {},
   "outputs": [],
   "source": [
    "char_blocks = soup.find_all(class_=\"category-page__member\")"
   ]
  },
  {
   "cell_type": "code",
   "execution_count": 27,
   "id": "f72cbaa2-96f7-49ee-bbb2-df959f5eb018",
   "metadata": {},
   "outputs": [
    {
     "data": {
      "text/plain": [
       "'/wiki/Abobo'"
      ]
     },
     "execution_count": 27,
     "metadata": {},
     "output_type": "execute_result"
    }
   ],
   "source": [
    "char_dir = char_blocks[0].find('a').attrs['href']\n",
    "char_dir"
   ]
  },
  {
   "cell_type": "code",
   "execution_count": 28,
   "id": "df60acbe-f31d-49e8-9e17-b09a5e1fc574",
   "metadata": {},
   "outputs": [
    {
     "data": {
      "text/plain": [
       "'Abobo'"
      ]
     },
     "execution_count": 28,
     "metadata": {},
     "output_type": "execute_result"
    }
   ],
   "source": [
    "char_name = char_blocks[0].find('a').attrs['title']\n",
    "char_name"
   ]
  },
  {
   "cell_type": "code",
   "execution_count": 31,
   "id": "49f13043-8a11-40cd-a34e-f471afdf94a1",
   "metadata": {},
   "outputs": [],
   "source": [
    "char_response = requests.get(url + char_dir)\n",
    "char_soup = BeautifulSoup(char_response.text, 'html.parser')"
   ]
  },
  {
   "cell_type": "code",
   "execution_count": 46,
   "id": "4f888017-916b-4911-a0a4-569fbd8e8a73",
   "metadata": {},
   "outputs": [
    {
     "data": {
      "text/plain": [
       "'https://static.wikia.nocookie.net/characterprofile/images/a/a8/Abobo_-_04.png/revision/latest?cb=20200809184914'"
      ]
     },
     "execution_count": 46,
     "metadata": {},
     "output_type": "execute_result"
    }
   ],
   "source": [
    "img_url = char_soup.find(class_=\"wikia-infobox\").find(class_=\"image\").attrs['href']\n",
    "img_url"
   ]
  },
  {
   "cell_type": "code",
   "execution_count": 106,
   "id": "aaa2c015-5515-4081-980d-65c7d83de68a",
   "metadata": {},
   "outputs": [
    {
     "data": {
      "text/plain": [
       "'png'"
      ]
     },
     "execution_count": 106,
     "metadata": {},
     "output_type": "execute_result"
    }
   ],
   "source": [
    "img_ext = char_soup.find(class_=\"wikia-infobox\").find('img').get('data-image-name').split('.')[-1]\n",
    "img_ext"
   ]
  },
  {
   "cell_type": "code",
   "execution_count": 109,
   "id": "a280a374-715c-4855-a942-af30a0e4a31f",
   "metadata": {
    "scrolled": true
   },
   "outputs": [
    {
     "data": {
      "text/plain": [
       "('../data/images/Abobo.png', <http.client.HTTPMessage at 0x7fe3c7bf2cb0>)"
      ]
     },
     "execution_count": 109,
     "metadata": {},
     "output_type": "execute_result"
    }
   ],
   "source": [
    "urllib.request.urlretrieve(img_url, f'../data/images/{char_name}.{img_ext}')"
   ]
  },
  {
   "cell_type": "code",
   "execution_count": 56,
   "id": "17a7921b-c826-4191-972a-2b96ad586550",
   "metadata": {},
   "outputs": [
    {
     "data": {
      "text/plain": [
       "8"
      ]
     },
     "execution_count": 56,
     "metadata": {},
     "output_type": "execute_result"
    }
   ],
   "source": [
    "for i,th in enumerate(char_soup.find(class_=\"wikia-infobox\").find_all('th')):\n",
    "    if th.find('a'):\n",
    "        idx = i\n",
    "i"
   ]
  },
  {
   "cell_type": "code",
   "execution_count": 89,
   "id": "594f9634-72d3-46e4-89ae-78527c9f5daf",
   "metadata": {},
   "outputs": [
    {
     "data": {
      "text/plain": [
       "'Neutral Evil'"
      ]
     },
     "execution_count": 89,
     "metadata": {},
     "output_type": "execute_result"
    }
   ],
   "source": [
    "char_alignment = char_soup.find(class_=\"wikia-infobox\").find_all('td')[idx].contents[0].strip('\\n')\n",
    "char_alignment"
   ]
  },
  {
   "cell_type": "code",
   "execution_count": null,
   "id": "ce5b8049-8dc2-4984-8ed2-f9df43828f16",
   "metadata": {},
   "outputs": [],
   "source": []
  },
  {
   "cell_type": "code",
   "execution_count": null,
   "id": "7e6867eb-dbfa-42a5-8f79-76b2d5a401ff",
   "metadata": {},
   "outputs": [],
   "source": []
  },
  {
   "cell_type": "code",
   "execution_count": null,
   "id": "fc9face0-2b78-45c9-9648-c27b18569842",
   "metadata": {},
   "outputs": [],
   "source": []
  },
  {
   "cell_type": "code",
   "execution_count": null,
   "id": "adec2297-0e74-49a4-ad98-46df2cf38f6b",
   "metadata": {},
   "outputs": [],
   "source": []
  },
  {
   "cell_type": "code",
   "execution_count": null,
   "id": "41655c32-524c-4aa4-b314-966949c7eb24",
   "metadata": {},
   "outputs": [],
   "source": []
  },
  {
   "cell_type": "code",
   "execution_count": null,
   "id": "02ed6d88-fa88-4536-ab9d-26da7767be27",
   "metadata": {},
   "outputs": [],
   "source": []
  },
  {
   "cell_type": "code",
   "execution_count": 212,
   "id": "61121629-465c-46ce-bde7-90dce2cc8238",
   "metadata": {},
   "outputs": [],
   "source": [
    "### HELPER FUNCTIONS ###\n",
    "def get_chars_from_alpha(url, list_query, c):\n",
    "    response = requests.get(url + list_query + c)\n",
    "    soup = BeautifulSoup(response.text, 'html.parser')\n",
    "    char_blocks = soup.find_all(class_=\"category-page__member\")\n",
    "    return char_blocks\n",
    "\n",
    "def get_char(char_block):\n",
    "    char_dir = char_block.find('a').attrs['href']\n",
    "    char_name = char_block.find('a').attrs['title'].strip('Category')\n",
    "    invalid = '<>:\"/\\|?*'\n",
    "    for char in invalid:\n",
    "        char_name = char_name.replace(char, '')\n",
    "    return char_name, char_dir\n",
    "\n",
    "def get_char_img(char_soup):\n",
    "    try:\n",
    "        img_url = char_soup.find(class_=\"wikia-infobox\").find(class_=\"image\").attrs['href']\n",
    "        img_ext = char_soup.find(class_=\"wikia-infobox\").find('img').get('data-image-name').split('.')[-1]\n",
    "        image_fname = f'{char_name}.{img_ext}'\n",
    "        if not os.path.isfile(f'../data/images/{image_fname}'):\n",
    "            urllib.request.urlretrieve(img_url, f'../data/images/{image_fname}')   \n",
    "        img_w, img_h = Image.open(f'../data/images/{image_fname}').size\n",
    "    except:\n",
    "        img_url, image_fname, img_h, img_w = np.nan, np.nan, np.nan, np.nan     \n",
    "    return image_fname, img_h, img_w, img_url\n",
    "\n",
    "def get_char_alignment(char_soup):\n",
    "    try:\n",
    "        for i,th in enumerate(char_soup.find(class_=\"wikia-infobox\").find_all('th')):\n",
    "            if th.find('a'):\n",
    "                idx = i\n",
    "                char_alignment = char_soup.find(class_=\"wikia-infobox\").find_all('td')[idx].contents[0].strip('\\n')\n",
    "    except:\n",
    "        char_alignment = np.nan\n",
    "    return char_alignment"
   ]
  },
  {
   "cell_type": "code",
   "execution_count": 267,
   "id": "3564bbe8-0ce1-4d92-a5d0-f7897e78b4c5",
   "metadata": {},
   "outputs": [
    {
     "name": "stdout",
     "output_type": "stream",
     "text": [
      "Skipping Balrog (Street Fighter), already downloaded.\n",
      "Skipping Banj, already downloaded.\n",
      "Skipping Banjo Kazooi, already downloaded.\n",
      "Skipping Barak, already downloaded.\n",
      "Skipping Barret Wallac, already downloaded.\n",
      "Skipping Bash, already downloaded.\n",
      "Skipping Bass.EXE, already downloaded.\n",
      "Skipping Bastion, already downloaded.\n",
      "Skipping Bayonetta (character), already downloaded.\n",
      "Skipping Beck (Mighty No. 9), already downloaded.\n",
      "Skipping Bend, already downloaded.\n",
      "Skipping Bethesda Softworks, already downloaded.\n",
      "Skipping Big Boss, already downloaded.\n",
      "Skipping Big Smok, already downloaded.\n",
      "Skipping Bill Riz, already downloaded.\n",
      "Skipping Billy and Jimmy L, already downloaded.\n",
      "Skipping Bird, already downloaded.\n",
      "Skipping Black Orchid, already downloaded.\n",
      "Skipping Blank, already downloaded.\n",
      "Skipping Blastois, already downloaded.\n",
      "Skipping Blaze The , already downloaded.\n",
      "Skipping Blaziken, already downloaded.\n",
      "Skipping Bloody R, already downloaded.\n",
      "Skipping Bol, already downloaded.\n",
      "Skipping Bomberman, already downloaded.\n",
      "Skipping Bows, already downloaded.\n",
      "Skipping Bowser Jr., already downloaded.\n",
      "Skipping Bren McGui, already downloaded.\n",
      "Skipping Bryan Fu, already downloaded.\n",
      "Skipping Bubsy the Bobc, already downloaded.\n",
      "Skipping Byte & Barq, already downloaded.\n",
      "Parsing it Sith...\n",
      "Parsing mmy Whi...\n",
      "Parsing ptain Falcon...\n",
      "Parsing ptain Qwark...\n",
      "Parsing l Johnson...\n",
      "Parsing ssie ...\n",
      "Parsing ster Leonardo da Vinci...\n",
      "Parsing Castlevani...\n",
      "Parsing cile (Psychic World)...\n",
      "Parsing lestial Pillars (Terraria)...\n",
      "Parsing haos (Sonic the Hedgehog)...\n",
      "Parsing harizard...\n",
      "Parsing hase McCain...\n",
      "Parsing haz Ashl...\n",
      "Parsing hica`s Magic Rainbow...\n",
      "Parsing hicken...\n",
      "Parsing hilly Will...\n",
      "Parsing hopscotch...\n",
      "Parsing hris Redfield...\n",
      "Parsing Chron...\n",
      "Parsing huck E. Cheese (character)...\n",
      "Parsing hun-Li...\n",
      "Parsing id Highwind...\n",
      "Parsing lank (Ratchet & Clank)...\n",
      "Parsing laude (Grand Theft Auto)...\n",
      "Parsing lementine (The Walking Dead)...\n",
      "Parsing loud Strif...\n",
      "Parsing balion...\n",
      "Parsing co Bandic...\n",
      "Parsing dy Travers...\n",
      "Parsing le MacGrath...\n",
      "Parsing mmander Shepard...\n",
      "Parsing uptionCrimsonHallowed...\n",
      "Parsing Crash Bandic...\n",
      "Parsing sh Bandicoot (character)...\n",
      "Parsing m the Rabbi...\n",
      "Parsing per (Minecraft)...\n",
      "Parsing n...\n",
      "Parsing uphead & Mugman...\n",
      "Parsing nder (Legends)...\n",
      "Parsing x...\n",
      "Parsing D.V...\n",
      "Parsing Dan Hibiki...\n",
      "Parsing Danny Phantom...\n",
      "Parsing Dante (Devil May Cry)...\n",
      "Parsing Dark Pi...\n",
      "Parsing Dark Samus...\n",
      "Parsing Dark Souls...\n",
      "Parsing Darkrai...\n",
      "Parsing Darkstalkers...\n",
      "Parsing Darmanitan...\n",
      "Parsing Dead or Aliv...\n",
      "Parsing Dead Risin...\n",
      "Parsing Death (Castlevania)...\n",
      "Parsing Decidu...\n",
      "Parsing Deej...\n",
      "Parsing Delibird...\n",
      "Parsing Delsin Row...\n",
      "Parsing Demyx...\n",
      "Parsing Deoxys...\n",
      "Parsing Descendant of ErdrickR...\n",
      "Parsing Detective Pikachu...\n",
      "Parsing Deus...\n",
      "Parsing Devil May ...\n",
      "Parsing Dhalsim...\n",
      "Parsing Dimenti...\n",
      "Parsing Dis...\n",
      "Parsing Di...\n",
      "Parsing Doctor Nefarious...\n",
      "Parsing Doctor Neo Cortex...\n",
      "Parsing Donkey Kong (character)...\n",
      "Parsing Doomfis...\n"
     ]
    },
    {
     "ename": "KeyboardInterrupt",
     "evalue": "",
     "output_type": "error",
     "traceback": [
      "\u001b[0;31m---------------------------------------------------------------------------\u001b[0m",
      "\u001b[0;31mKeyboardInterrupt\u001b[0m                         Traceback (most recent call last)",
      "Cell \u001b[0;32mIn[267], line 32\u001b[0m\n\u001b[1;32m     30\u001b[0m     \u001b[38;5;28mprint\u001b[39m(\u001b[38;5;124mf\u001b[39m\u001b[38;5;124m'\u001b[39m\u001b[38;5;124mSkipping \u001b[39m\u001b[38;5;132;01m{\u001b[39;00mchar_name\u001b[38;5;132;01m}\u001b[39;00m\u001b[38;5;124m, already downloaded.\u001b[39m\u001b[38;5;124m'\u001b[39m)\n\u001b[1;32m     31\u001b[0m \u001b[38;5;28;01melse\u001b[39;00m:\n\u001b[0;32m---> 32\u001b[0m     char_response \u001b[38;5;241m=\u001b[39m \u001b[43mrequests\u001b[49m\u001b[38;5;241;43m.\u001b[39;49m\u001b[43mget\u001b[49m\u001b[43m(\u001b[49m\u001b[43murl\u001b[49m\u001b[43m \u001b[49m\u001b[38;5;241;43m+\u001b[39;49m\u001b[43m \u001b[49m\u001b[43mchar_dir\u001b[49m\u001b[43m)\u001b[49m\n\u001b[1;32m     33\u001b[0m     char_soup \u001b[38;5;241m=\u001b[39m BeautifulSoup(char_response\u001b[38;5;241m.\u001b[39mtext, \u001b[38;5;124m'\u001b[39m\u001b[38;5;124mhtml.parser\u001b[39m\u001b[38;5;124m'\u001b[39m)\n\u001b[1;32m     34\u001b[0m     \u001b[38;5;28mprint\u001b[39m(\u001b[38;5;124mf\u001b[39m\u001b[38;5;124m'\u001b[39m\u001b[38;5;124mParsing \u001b[39m\u001b[38;5;132;01m{\u001b[39;00mchar_name\u001b[38;5;132;01m}\u001b[39;00m\u001b[38;5;124m...\u001b[39m\u001b[38;5;124m'\u001b[39m)\n",
      "File \u001b[0;32m~/.pyenv/versions/game_char_cnn/lib/python3.10/site-packages/requests/api.py:73\u001b[0m, in \u001b[0;36mget\u001b[0;34m(url, params, **kwargs)\u001b[0m\n\u001b[1;32m     62\u001b[0m \u001b[38;5;28;01mdef\u001b[39;00m \u001b[38;5;21mget\u001b[39m(url, params\u001b[38;5;241m=\u001b[39m\u001b[38;5;28;01mNone\u001b[39;00m, \u001b[38;5;241m*\u001b[39m\u001b[38;5;241m*\u001b[39mkwargs):\n\u001b[1;32m     63\u001b[0m \u001b[38;5;250m    \u001b[39m\u001b[38;5;124mr\u001b[39m\u001b[38;5;124;03m\"\"\"Sends a GET request.\u001b[39;00m\n\u001b[1;32m     64\u001b[0m \n\u001b[1;32m     65\u001b[0m \u001b[38;5;124;03m    :param url: URL for the new :class:`Request` object.\u001b[39;00m\n\u001b[0;32m   (...)\u001b[0m\n\u001b[1;32m     70\u001b[0m \u001b[38;5;124;03m    :rtype: requests.Response\u001b[39;00m\n\u001b[1;32m     71\u001b[0m \u001b[38;5;124;03m    \"\"\"\u001b[39;00m\n\u001b[0;32m---> 73\u001b[0m     \u001b[38;5;28;01mreturn\u001b[39;00m \u001b[43mrequest\u001b[49m\u001b[43m(\u001b[49m\u001b[38;5;124;43m\"\u001b[39;49m\u001b[38;5;124;43mget\u001b[39;49m\u001b[38;5;124;43m\"\u001b[39;49m\u001b[43m,\u001b[49m\u001b[43m \u001b[49m\u001b[43murl\u001b[49m\u001b[43m,\u001b[49m\u001b[43m \u001b[49m\u001b[43mparams\u001b[49m\u001b[38;5;241;43m=\u001b[39;49m\u001b[43mparams\u001b[49m\u001b[43m,\u001b[49m\u001b[43m \u001b[49m\u001b[38;5;241;43m*\u001b[39;49m\u001b[38;5;241;43m*\u001b[39;49m\u001b[43mkwargs\u001b[49m\u001b[43m)\u001b[49m\n",
      "File \u001b[0;32m~/.pyenv/versions/game_char_cnn/lib/python3.10/site-packages/requests/api.py:59\u001b[0m, in \u001b[0;36mrequest\u001b[0;34m(method, url, **kwargs)\u001b[0m\n\u001b[1;32m     55\u001b[0m \u001b[38;5;66;03m# By using the 'with' statement we are sure the session is closed, thus we\u001b[39;00m\n\u001b[1;32m     56\u001b[0m \u001b[38;5;66;03m# avoid leaving sockets open which can trigger a ResourceWarning in some\u001b[39;00m\n\u001b[1;32m     57\u001b[0m \u001b[38;5;66;03m# cases, and look like a memory leak in others.\u001b[39;00m\n\u001b[1;32m     58\u001b[0m \u001b[38;5;28;01mwith\u001b[39;00m sessions\u001b[38;5;241m.\u001b[39mSession() \u001b[38;5;28;01mas\u001b[39;00m session:\n\u001b[0;32m---> 59\u001b[0m     \u001b[38;5;28;01mreturn\u001b[39;00m \u001b[43msession\u001b[49m\u001b[38;5;241;43m.\u001b[39;49m\u001b[43mrequest\u001b[49m\u001b[43m(\u001b[49m\u001b[43mmethod\u001b[49m\u001b[38;5;241;43m=\u001b[39;49m\u001b[43mmethod\u001b[49m\u001b[43m,\u001b[49m\u001b[43m \u001b[49m\u001b[43murl\u001b[49m\u001b[38;5;241;43m=\u001b[39;49m\u001b[43murl\u001b[49m\u001b[43m,\u001b[49m\u001b[43m \u001b[49m\u001b[38;5;241;43m*\u001b[39;49m\u001b[38;5;241;43m*\u001b[39;49m\u001b[43mkwargs\u001b[49m\u001b[43m)\u001b[49m\n",
      "File \u001b[0;32m~/.pyenv/versions/game_char_cnn/lib/python3.10/site-packages/requests/sessions.py:589\u001b[0m, in \u001b[0;36mSession.request\u001b[0;34m(self, method, url, params, data, headers, cookies, files, auth, timeout, allow_redirects, proxies, hooks, stream, verify, cert, json)\u001b[0m\n\u001b[1;32m    584\u001b[0m send_kwargs \u001b[38;5;241m=\u001b[39m {\n\u001b[1;32m    585\u001b[0m     \u001b[38;5;124m\"\u001b[39m\u001b[38;5;124mtimeout\u001b[39m\u001b[38;5;124m\"\u001b[39m: timeout,\n\u001b[1;32m    586\u001b[0m     \u001b[38;5;124m\"\u001b[39m\u001b[38;5;124mallow_redirects\u001b[39m\u001b[38;5;124m\"\u001b[39m: allow_redirects,\n\u001b[1;32m    587\u001b[0m }\n\u001b[1;32m    588\u001b[0m send_kwargs\u001b[38;5;241m.\u001b[39mupdate(settings)\n\u001b[0;32m--> 589\u001b[0m resp \u001b[38;5;241m=\u001b[39m \u001b[38;5;28;43mself\u001b[39;49m\u001b[38;5;241;43m.\u001b[39;49m\u001b[43msend\u001b[49m\u001b[43m(\u001b[49m\u001b[43mprep\u001b[49m\u001b[43m,\u001b[49m\u001b[43m \u001b[49m\u001b[38;5;241;43m*\u001b[39;49m\u001b[38;5;241;43m*\u001b[39;49m\u001b[43msend_kwargs\u001b[49m\u001b[43m)\u001b[49m\n\u001b[1;32m    591\u001b[0m \u001b[38;5;28;01mreturn\u001b[39;00m resp\n",
      "File \u001b[0;32m~/.pyenv/versions/game_char_cnn/lib/python3.10/site-packages/requests/sessions.py:703\u001b[0m, in \u001b[0;36mSession.send\u001b[0;34m(self, request, **kwargs)\u001b[0m\n\u001b[1;32m    700\u001b[0m start \u001b[38;5;241m=\u001b[39m preferred_clock()\n\u001b[1;32m    702\u001b[0m \u001b[38;5;66;03m# Send the request\u001b[39;00m\n\u001b[0;32m--> 703\u001b[0m r \u001b[38;5;241m=\u001b[39m \u001b[43madapter\u001b[49m\u001b[38;5;241;43m.\u001b[39;49m\u001b[43msend\u001b[49m\u001b[43m(\u001b[49m\u001b[43mrequest\u001b[49m\u001b[43m,\u001b[49m\u001b[43m \u001b[49m\u001b[38;5;241;43m*\u001b[39;49m\u001b[38;5;241;43m*\u001b[39;49m\u001b[43mkwargs\u001b[49m\u001b[43m)\u001b[49m\n\u001b[1;32m    705\u001b[0m \u001b[38;5;66;03m# Total elapsed time of the request (approximately)\u001b[39;00m\n\u001b[1;32m    706\u001b[0m elapsed \u001b[38;5;241m=\u001b[39m preferred_clock() \u001b[38;5;241m-\u001b[39m start\n",
      "File \u001b[0;32m~/.pyenv/versions/game_char_cnn/lib/python3.10/site-packages/requests/adapters.py:486\u001b[0m, in \u001b[0;36mHTTPAdapter.send\u001b[0;34m(self, request, stream, timeout, verify, cert, proxies)\u001b[0m\n\u001b[1;32m    483\u001b[0m     timeout \u001b[38;5;241m=\u001b[39m TimeoutSauce(connect\u001b[38;5;241m=\u001b[39mtimeout, read\u001b[38;5;241m=\u001b[39mtimeout)\n\u001b[1;32m    485\u001b[0m \u001b[38;5;28;01mtry\u001b[39;00m:\n\u001b[0;32m--> 486\u001b[0m     resp \u001b[38;5;241m=\u001b[39m \u001b[43mconn\u001b[49m\u001b[38;5;241;43m.\u001b[39;49m\u001b[43murlopen\u001b[49m\u001b[43m(\u001b[49m\n\u001b[1;32m    487\u001b[0m \u001b[43m        \u001b[49m\u001b[43mmethod\u001b[49m\u001b[38;5;241;43m=\u001b[39;49m\u001b[43mrequest\u001b[49m\u001b[38;5;241;43m.\u001b[39;49m\u001b[43mmethod\u001b[49m\u001b[43m,\u001b[49m\n\u001b[1;32m    488\u001b[0m \u001b[43m        \u001b[49m\u001b[43murl\u001b[49m\u001b[38;5;241;43m=\u001b[39;49m\u001b[43murl\u001b[49m\u001b[43m,\u001b[49m\n\u001b[1;32m    489\u001b[0m \u001b[43m        \u001b[49m\u001b[43mbody\u001b[49m\u001b[38;5;241;43m=\u001b[39;49m\u001b[43mrequest\u001b[49m\u001b[38;5;241;43m.\u001b[39;49m\u001b[43mbody\u001b[49m\u001b[43m,\u001b[49m\n\u001b[1;32m    490\u001b[0m \u001b[43m        \u001b[49m\u001b[43mheaders\u001b[49m\u001b[38;5;241;43m=\u001b[39;49m\u001b[43mrequest\u001b[49m\u001b[38;5;241;43m.\u001b[39;49m\u001b[43mheaders\u001b[49m\u001b[43m,\u001b[49m\n\u001b[1;32m    491\u001b[0m \u001b[43m        \u001b[49m\u001b[43mredirect\u001b[49m\u001b[38;5;241;43m=\u001b[39;49m\u001b[38;5;28;43;01mFalse\u001b[39;49;00m\u001b[43m,\u001b[49m\n\u001b[1;32m    492\u001b[0m \u001b[43m        \u001b[49m\u001b[43massert_same_host\u001b[49m\u001b[38;5;241;43m=\u001b[39;49m\u001b[38;5;28;43;01mFalse\u001b[39;49;00m\u001b[43m,\u001b[49m\n\u001b[1;32m    493\u001b[0m \u001b[43m        \u001b[49m\u001b[43mpreload_content\u001b[49m\u001b[38;5;241;43m=\u001b[39;49m\u001b[38;5;28;43;01mFalse\u001b[39;49;00m\u001b[43m,\u001b[49m\n\u001b[1;32m    494\u001b[0m \u001b[43m        \u001b[49m\u001b[43mdecode_content\u001b[49m\u001b[38;5;241;43m=\u001b[39;49m\u001b[38;5;28;43;01mFalse\u001b[39;49;00m\u001b[43m,\u001b[49m\n\u001b[1;32m    495\u001b[0m \u001b[43m        \u001b[49m\u001b[43mretries\u001b[49m\u001b[38;5;241;43m=\u001b[39;49m\u001b[38;5;28;43mself\u001b[39;49m\u001b[38;5;241;43m.\u001b[39;49m\u001b[43mmax_retries\u001b[49m\u001b[43m,\u001b[49m\n\u001b[1;32m    496\u001b[0m \u001b[43m        \u001b[49m\u001b[43mtimeout\u001b[49m\u001b[38;5;241;43m=\u001b[39;49m\u001b[43mtimeout\u001b[49m\u001b[43m,\u001b[49m\n\u001b[1;32m    497\u001b[0m \u001b[43m        \u001b[49m\u001b[43mchunked\u001b[49m\u001b[38;5;241;43m=\u001b[39;49m\u001b[43mchunked\u001b[49m\u001b[43m,\u001b[49m\n\u001b[1;32m    498\u001b[0m \u001b[43m    \u001b[49m\u001b[43m)\u001b[49m\n\u001b[1;32m    500\u001b[0m \u001b[38;5;28;01mexcept\u001b[39;00m (ProtocolError, \u001b[38;5;167;01mOSError\u001b[39;00m) \u001b[38;5;28;01mas\u001b[39;00m err:\n\u001b[1;32m    501\u001b[0m     \u001b[38;5;28;01mraise\u001b[39;00m \u001b[38;5;167;01mConnectionError\u001b[39;00m(err, request\u001b[38;5;241m=\u001b[39mrequest)\n",
      "File \u001b[0;32m~/.pyenv/versions/game_char_cnn/lib/python3.10/site-packages/urllib3/connectionpool.py:793\u001b[0m, in \u001b[0;36mHTTPConnectionPool.urlopen\u001b[0;34m(self, method, url, body, headers, retries, redirect, assert_same_host, timeout, pool_timeout, release_conn, chunked, body_pos, preload_content, decode_content, **response_kw)\u001b[0m\n\u001b[1;32m    790\u001b[0m response_conn \u001b[38;5;241m=\u001b[39m conn \u001b[38;5;28;01mif\u001b[39;00m \u001b[38;5;129;01mnot\u001b[39;00m release_conn \u001b[38;5;28;01melse\u001b[39;00m \u001b[38;5;28;01mNone\u001b[39;00m\n\u001b[1;32m    792\u001b[0m \u001b[38;5;66;03m# Make the request on the HTTPConnection object\u001b[39;00m\n\u001b[0;32m--> 793\u001b[0m response \u001b[38;5;241m=\u001b[39m \u001b[38;5;28;43mself\u001b[39;49m\u001b[38;5;241;43m.\u001b[39;49m\u001b[43m_make_request\u001b[49m\u001b[43m(\u001b[49m\n\u001b[1;32m    794\u001b[0m \u001b[43m    \u001b[49m\u001b[43mconn\u001b[49m\u001b[43m,\u001b[49m\n\u001b[1;32m    795\u001b[0m \u001b[43m    \u001b[49m\u001b[43mmethod\u001b[49m\u001b[43m,\u001b[49m\n\u001b[1;32m    796\u001b[0m \u001b[43m    \u001b[49m\u001b[43murl\u001b[49m\u001b[43m,\u001b[49m\n\u001b[1;32m    797\u001b[0m \u001b[43m    \u001b[49m\u001b[43mtimeout\u001b[49m\u001b[38;5;241;43m=\u001b[39;49m\u001b[43mtimeout_obj\u001b[49m\u001b[43m,\u001b[49m\n\u001b[1;32m    798\u001b[0m \u001b[43m    \u001b[49m\u001b[43mbody\u001b[49m\u001b[38;5;241;43m=\u001b[39;49m\u001b[43mbody\u001b[49m\u001b[43m,\u001b[49m\n\u001b[1;32m    799\u001b[0m \u001b[43m    \u001b[49m\u001b[43mheaders\u001b[49m\u001b[38;5;241;43m=\u001b[39;49m\u001b[43mheaders\u001b[49m\u001b[43m,\u001b[49m\n\u001b[1;32m    800\u001b[0m \u001b[43m    \u001b[49m\u001b[43mchunked\u001b[49m\u001b[38;5;241;43m=\u001b[39;49m\u001b[43mchunked\u001b[49m\u001b[43m,\u001b[49m\n\u001b[1;32m    801\u001b[0m \u001b[43m    \u001b[49m\u001b[43mretries\u001b[49m\u001b[38;5;241;43m=\u001b[39;49m\u001b[43mretries\u001b[49m\u001b[43m,\u001b[49m\n\u001b[1;32m    802\u001b[0m \u001b[43m    \u001b[49m\u001b[43mresponse_conn\u001b[49m\u001b[38;5;241;43m=\u001b[39;49m\u001b[43mresponse_conn\u001b[49m\u001b[43m,\u001b[49m\n\u001b[1;32m    803\u001b[0m \u001b[43m    \u001b[49m\u001b[43mpreload_content\u001b[49m\u001b[38;5;241;43m=\u001b[39;49m\u001b[43mpreload_content\u001b[49m\u001b[43m,\u001b[49m\n\u001b[1;32m    804\u001b[0m \u001b[43m    \u001b[49m\u001b[43mdecode_content\u001b[49m\u001b[38;5;241;43m=\u001b[39;49m\u001b[43mdecode_content\u001b[49m\u001b[43m,\u001b[49m\n\u001b[1;32m    805\u001b[0m \u001b[43m    \u001b[49m\u001b[38;5;241;43m*\u001b[39;49m\u001b[38;5;241;43m*\u001b[39;49m\u001b[43mresponse_kw\u001b[49m\u001b[43m,\u001b[49m\n\u001b[1;32m    806\u001b[0m \u001b[43m\u001b[49m\u001b[43m)\u001b[49m\n\u001b[1;32m    808\u001b[0m \u001b[38;5;66;03m# Everything went great!\u001b[39;00m\n\u001b[1;32m    809\u001b[0m clean_exit \u001b[38;5;241m=\u001b[39m \u001b[38;5;28;01mTrue\u001b[39;00m\n",
      "File \u001b[0;32m~/.pyenv/versions/game_char_cnn/lib/python3.10/site-packages/urllib3/connectionpool.py:537\u001b[0m, in \u001b[0;36mHTTPConnectionPool._make_request\u001b[0;34m(self, conn, method, url, body, headers, retries, timeout, chunked, response_conn, preload_content, decode_content, enforce_content_length)\u001b[0m\n\u001b[1;32m    535\u001b[0m \u001b[38;5;66;03m# Receive the response from the server\u001b[39;00m\n\u001b[1;32m    536\u001b[0m \u001b[38;5;28;01mtry\u001b[39;00m:\n\u001b[0;32m--> 537\u001b[0m     response \u001b[38;5;241m=\u001b[39m \u001b[43mconn\u001b[49m\u001b[38;5;241;43m.\u001b[39;49m\u001b[43mgetresponse\u001b[49m\u001b[43m(\u001b[49m\u001b[43m)\u001b[49m\n\u001b[1;32m    538\u001b[0m \u001b[38;5;28;01mexcept\u001b[39;00m (BaseSSLError, \u001b[38;5;167;01mOSError\u001b[39;00m) \u001b[38;5;28;01mas\u001b[39;00m e:\n\u001b[1;32m    539\u001b[0m     \u001b[38;5;28mself\u001b[39m\u001b[38;5;241m.\u001b[39m_raise_timeout(err\u001b[38;5;241m=\u001b[39me, url\u001b[38;5;241m=\u001b[39murl, timeout_value\u001b[38;5;241m=\u001b[39mread_timeout)\n",
      "File \u001b[0;32m~/.pyenv/versions/game_char_cnn/lib/python3.10/site-packages/urllib3/connection.py:466\u001b[0m, in \u001b[0;36mHTTPConnection.getresponse\u001b[0;34m(self)\u001b[0m\n\u001b[1;32m    463\u001b[0m \u001b[38;5;28;01mfrom\u001b[39;00m \u001b[38;5;21;01m.\u001b[39;00m\u001b[38;5;21;01mresponse\u001b[39;00m \u001b[38;5;28;01mimport\u001b[39;00m HTTPResponse\n\u001b[1;32m    465\u001b[0m \u001b[38;5;66;03m# Get the response from http.client.HTTPConnection\u001b[39;00m\n\u001b[0;32m--> 466\u001b[0m httplib_response \u001b[38;5;241m=\u001b[39m \u001b[38;5;28;43msuper\u001b[39;49m\u001b[43m(\u001b[49m\u001b[43m)\u001b[49m\u001b[38;5;241;43m.\u001b[39;49m\u001b[43mgetresponse\u001b[49m\u001b[43m(\u001b[49m\u001b[43m)\u001b[49m\n\u001b[1;32m    468\u001b[0m \u001b[38;5;28;01mtry\u001b[39;00m:\n\u001b[1;32m    469\u001b[0m     assert_header_parsing(httplib_response\u001b[38;5;241m.\u001b[39mmsg)\n",
      "File \u001b[0;32m~/.pyenv/versions/3.10.6/lib/python3.10/http/client.py:1374\u001b[0m, in \u001b[0;36mHTTPConnection.getresponse\u001b[0;34m(self)\u001b[0m\n\u001b[1;32m   1372\u001b[0m \u001b[38;5;28;01mtry\u001b[39;00m:\n\u001b[1;32m   1373\u001b[0m     \u001b[38;5;28;01mtry\u001b[39;00m:\n\u001b[0;32m-> 1374\u001b[0m         \u001b[43mresponse\u001b[49m\u001b[38;5;241;43m.\u001b[39;49m\u001b[43mbegin\u001b[49m\u001b[43m(\u001b[49m\u001b[43m)\u001b[49m\n\u001b[1;32m   1375\u001b[0m     \u001b[38;5;28;01mexcept\u001b[39;00m \u001b[38;5;167;01mConnectionError\u001b[39;00m:\n\u001b[1;32m   1376\u001b[0m         \u001b[38;5;28mself\u001b[39m\u001b[38;5;241m.\u001b[39mclose()\n",
      "File \u001b[0;32m~/.pyenv/versions/3.10.6/lib/python3.10/http/client.py:318\u001b[0m, in \u001b[0;36mHTTPResponse.begin\u001b[0;34m(self)\u001b[0m\n\u001b[1;32m    316\u001b[0m \u001b[38;5;66;03m# read until we get a non-100 response\u001b[39;00m\n\u001b[1;32m    317\u001b[0m \u001b[38;5;28;01mwhile\u001b[39;00m \u001b[38;5;28;01mTrue\u001b[39;00m:\n\u001b[0;32m--> 318\u001b[0m     version, status, reason \u001b[38;5;241m=\u001b[39m \u001b[38;5;28;43mself\u001b[39;49m\u001b[38;5;241;43m.\u001b[39;49m\u001b[43m_read_status\u001b[49m\u001b[43m(\u001b[49m\u001b[43m)\u001b[49m\n\u001b[1;32m    319\u001b[0m     \u001b[38;5;28;01mif\u001b[39;00m status \u001b[38;5;241m!=\u001b[39m CONTINUE:\n\u001b[1;32m    320\u001b[0m         \u001b[38;5;28;01mbreak\u001b[39;00m\n",
      "File \u001b[0;32m~/.pyenv/versions/3.10.6/lib/python3.10/http/client.py:279\u001b[0m, in \u001b[0;36mHTTPResponse._read_status\u001b[0;34m(self)\u001b[0m\n\u001b[1;32m    278\u001b[0m \u001b[38;5;28;01mdef\u001b[39;00m \u001b[38;5;21m_read_status\u001b[39m(\u001b[38;5;28mself\u001b[39m):\n\u001b[0;32m--> 279\u001b[0m     line \u001b[38;5;241m=\u001b[39m \u001b[38;5;28mstr\u001b[39m(\u001b[38;5;28;43mself\u001b[39;49m\u001b[38;5;241;43m.\u001b[39;49m\u001b[43mfp\u001b[49m\u001b[38;5;241;43m.\u001b[39;49m\u001b[43mreadline\u001b[49m\u001b[43m(\u001b[49m\u001b[43m_MAXLINE\u001b[49m\u001b[43m \u001b[49m\u001b[38;5;241;43m+\u001b[39;49m\u001b[43m \u001b[49m\u001b[38;5;241;43m1\u001b[39;49m\u001b[43m)\u001b[49m, \u001b[38;5;124m\"\u001b[39m\u001b[38;5;124miso-8859-1\u001b[39m\u001b[38;5;124m\"\u001b[39m)\n\u001b[1;32m    280\u001b[0m     \u001b[38;5;28;01mif\u001b[39;00m \u001b[38;5;28mlen\u001b[39m(line) \u001b[38;5;241m>\u001b[39m _MAXLINE:\n\u001b[1;32m    281\u001b[0m         \u001b[38;5;28;01mraise\u001b[39;00m LineTooLong(\u001b[38;5;124m\"\u001b[39m\u001b[38;5;124mstatus line\u001b[39m\u001b[38;5;124m\"\u001b[39m)\n",
      "File \u001b[0;32m~/.pyenv/versions/3.10.6/lib/python3.10/socket.py:705\u001b[0m, in \u001b[0;36mSocketIO.readinto\u001b[0;34m(self, b)\u001b[0m\n\u001b[1;32m    703\u001b[0m \u001b[38;5;28;01mwhile\u001b[39;00m \u001b[38;5;28;01mTrue\u001b[39;00m:\n\u001b[1;32m    704\u001b[0m     \u001b[38;5;28;01mtry\u001b[39;00m:\n\u001b[0;32m--> 705\u001b[0m         \u001b[38;5;28;01mreturn\u001b[39;00m \u001b[38;5;28;43mself\u001b[39;49m\u001b[38;5;241;43m.\u001b[39;49m\u001b[43m_sock\u001b[49m\u001b[38;5;241;43m.\u001b[39;49m\u001b[43mrecv_into\u001b[49m\u001b[43m(\u001b[49m\u001b[43mb\u001b[49m\u001b[43m)\u001b[49m\n\u001b[1;32m    706\u001b[0m     \u001b[38;5;28;01mexcept\u001b[39;00m timeout:\n\u001b[1;32m    707\u001b[0m         \u001b[38;5;28mself\u001b[39m\u001b[38;5;241m.\u001b[39m_timeout_occurred \u001b[38;5;241m=\u001b[39m \u001b[38;5;28;01mTrue\u001b[39;00m\n",
      "File \u001b[0;32m~/.pyenv/versions/3.10.6/lib/python3.10/ssl.py:1274\u001b[0m, in \u001b[0;36mSSLSocket.recv_into\u001b[0;34m(self, buffer, nbytes, flags)\u001b[0m\n\u001b[1;32m   1270\u001b[0m     \u001b[38;5;28;01mif\u001b[39;00m flags \u001b[38;5;241m!=\u001b[39m \u001b[38;5;241m0\u001b[39m:\n\u001b[1;32m   1271\u001b[0m         \u001b[38;5;28;01mraise\u001b[39;00m \u001b[38;5;167;01mValueError\u001b[39;00m(\n\u001b[1;32m   1272\u001b[0m           \u001b[38;5;124m\"\u001b[39m\u001b[38;5;124mnon-zero flags not allowed in calls to recv_into() on \u001b[39m\u001b[38;5;132;01m%s\u001b[39;00m\u001b[38;5;124m\"\u001b[39m \u001b[38;5;241m%\u001b[39m\n\u001b[1;32m   1273\u001b[0m           \u001b[38;5;28mself\u001b[39m\u001b[38;5;241m.\u001b[39m\u001b[38;5;18m__class__\u001b[39m)\n\u001b[0;32m-> 1274\u001b[0m     \u001b[38;5;28;01mreturn\u001b[39;00m \u001b[38;5;28;43mself\u001b[39;49m\u001b[38;5;241;43m.\u001b[39;49m\u001b[43mread\u001b[49m\u001b[43m(\u001b[49m\u001b[43mnbytes\u001b[49m\u001b[43m,\u001b[49m\u001b[43m \u001b[49m\u001b[43mbuffer\u001b[49m\u001b[43m)\u001b[49m\n\u001b[1;32m   1275\u001b[0m \u001b[38;5;28;01melse\u001b[39;00m:\n\u001b[1;32m   1276\u001b[0m     \u001b[38;5;28;01mreturn\u001b[39;00m \u001b[38;5;28msuper\u001b[39m()\u001b[38;5;241m.\u001b[39mrecv_into(buffer, nbytes, flags)\n",
      "File \u001b[0;32m~/.pyenv/versions/3.10.6/lib/python3.10/ssl.py:1130\u001b[0m, in \u001b[0;36mSSLSocket.read\u001b[0;34m(self, len, buffer)\u001b[0m\n\u001b[1;32m   1128\u001b[0m \u001b[38;5;28;01mtry\u001b[39;00m:\n\u001b[1;32m   1129\u001b[0m     \u001b[38;5;28;01mif\u001b[39;00m buffer \u001b[38;5;129;01mis\u001b[39;00m \u001b[38;5;129;01mnot\u001b[39;00m \u001b[38;5;28;01mNone\u001b[39;00m:\n\u001b[0;32m-> 1130\u001b[0m         \u001b[38;5;28;01mreturn\u001b[39;00m \u001b[38;5;28;43mself\u001b[39;49m\u001b[38;5;241;43m.\u001b[39;49m\u001b[43m_sslobj\u001b[49m\u001b[38;5;241;43m.\u001b[39;49m\u001b[43mread\u001b[49m\u001b[43m(\u001b[49m\u001b[38;5;28;43mlen\u001b[39;49m\u001b[43m,\u001b[49m\u001b[43m \u001b[49m\u001b[43mbuffer\u001b[49m\u001b[43m)\u001b[49m\n\u001b[1;32m   1131\u001b[0m     \u001b[38;5;28;01melse\u001b[39;00m:\n\u001b[1;32m   1132\u001b[0m         \u001b[38;5;28;01mreturn\u001b[39;00m \u001b[38;5;28mself\u001b[39m\u001b[38;5;241m.\u001b[39m_sslobj\u001b[38;5;241m.\u001b[39mread(\u001b[38;5;28mlen\u001b[39m)\n",
      "\u001b[0;31mKeyboardInterrupt\u001b[0m: "
     ]
    }
   ],
   "source": [
    "\n",
    "### MAIN LOOP ###\n",
    "\n",
    "columns = ['Name', 'URL', 'Image fName', 'Image Height', 'Image Width', 'Image URL', 'Alignment']\n",
    "\n",
    "url = \"https://characterprofile.fandom.com\"\n",
    "list_query = \"/wiki/Category:Video_Game_Characters?from=\"\n",
    "\n",
    "try:\n",
    "    df = pd.read_csv('../data/game_chars.csv')\n",
    "    df = df[columns]\n",
    "    l = df['Name'].iloc[-1][0].lower()\n",
    "    alc = alc[alc.find(l):]\n",
    "except:\n",
    "    df = pd.DataFrame(columns=columns)\n",
    "\n",
    "\n",
    "\n",
    "for c in alc[:2]:\n",
    "    accumulator = []\n",
    "    \n",
    "    char_blocks = get_chars_from_alpha(url, list_query, c)\n",
    "    \n",
    "    for char_block in char_blocks:\n",
    "        char_dict = dict.fromkeys(columns)\n",
    "        char_name, char_dir = get_char(char_block)  \n",
    "        char_dict['Name'] = char_name\n",
    "        char_dict['URL'] = url+char_dir\n",
    "        \n",
    "        if char_name in df['Name'].tolist():\n",
    "            print(f'Skipping {char_name}, already downloaded.')\n",
    "        else:\n",
    "            char_response = requests.get(url + char_dir)\n",
    "            char_soup = BeautifulSoup(char_response.text, 'html.parser')\n",
    "            print(f'Parsing {char_name}...')\n",
    "        \n",
    "            char_dict['Image fName'], char_dict['Image Height'], \\\n",
    "            char_dict['Image Width'], char_dict['Image URL'] = get_char_img(char_soup)   \n",
    "             \n",
    "            char_dict['Alignment'] = get_char_alignment(char_soup)\n",
    "            \n",
    "            accumulator.append(char_dict)\n",
    "            time.sleep(1)\n",
    "\n",
    "    df_acc = pd.DataFrame(accumulator)   \n",
    "    df = pd.concat((df,df_acc))\n",
    "    df.reset_index(drop=True, inplace = True)\n",
    "    df.to_csv('../data/game_chars.csv', index=False)\n"
   ]
  },
  {
   "cell_type": "code",
   "execution_count": 278,
   "id": "2c8502c4-623f-4e37-aa55-7db6ac91d12b",
   "metadata": {
    "scrolled": true
   },
   "outputs": [
    {
     "name": "stdout",
     "output_type": "stream",
     "text": [
      "<class 'pandas.core.frame.DataFrame'>\n",
      "RangeIndex: 832 entries, 0 to 831\n",
      "Data columns (total 7 columns):\n",
      " #   Column        Non-Null Count  Dtype  \n",
      "---  ------        --------------  -----  \n",
      " 0   Name          832 non-null    object \n",
      " 1   URL           832 non-null    object \n",
      " 2   Image fName   565 non-null    object \n",
      " 3   Image Height  565 non-null    float64\n",
      " 4   Image Width   565 non-null    float64\n",
      " 5   Image URL     565 non-null    object \n",
      " 6   Alignment     597 non-null    object \n",
      "dtypes: float64(2), object(5)\n",
      "memory usage: 45.6+ KB\n"
     ]
    }
   ],
   "source": [
    "df = pd.read_csv('../data/game_chars.csv')\n",
    "df.info()\n"
   ]
  },
  {
   "cell_type": "code",
   "execution_count": 279,
   "id": "2a8e7c11-5a94-4973-b7e4-a5112d5c3f79",
   "metadata": {},
   "outputs": [
    {
     "name": "stdout",
     "output_type": "stream",
     "text": [
      "<class 'pandas.core.frame.DataFrame'>\n",
      "RangeIndex: 563 entries, 0 to 562\n",
      "Data columns (total 7 columns):\n",
      " #   Column        Non-Null Count  Dtype  \n",
      "---  ------        --------------  -----  \n",
      " 0   Name          563 non-null    object \n",
      " 1   URL           563 non-null    object \n",
      " 2   Image fName   563 non-null    object \n",
      " 3   Image Height  563 non-null    float64\n",
      " 4   Image Width   563 non-null    float64\n",
      " 5   Image URL     563 non-null    object \n",
      " 6   Alignment     563 non-null    object \n",
      "dtypes: float64(2), object(5)\n",
      "memory usage: 30.9+ KB\n"
     ]
    }
   ],
   "source": [
    "df = df.dropna().reset_index(drop=True)\n",
    "df.info()"
   ]
  },
  {
   "cell_type": "code",
   "execution_count": null,
   "id": "0cc6b9f9-1771-4dc3-b45a-5b0eec6cea24",
   "metadata": {},
   "outputs": [],
   "source": []
  },
  {
   "cell_type": "code",
   "execution_count": 291,
   "id": "b2bee38a-29fa-4dc4-ba17-6b94d9910c92",
   "metadata": {},
   "outputs": [
    {
     "data": {
      "text/html": [
       "<div>\n",
       "<style scoped>\n",
       "    .dataframe tbody tr th:only-of-type {\n",
       "        vertical-align: middle;\n",
       "    }\n",
       "\n",
       "    .dataframe tbody tr th {\n",
       "        vertical-align: top;\n",
       "    }\n",
       "\n",
       "    .dataframe thead th {\n",
       "        text-align: right;\n",
       "    }\n",
       "</style>\n",
       "<table border=\"1\" class=\"dataframe\">\n",
       "  <thead>\n",
       "    <tr style=\"text-align: right;\">\n",
       "      <th></th>\n",
       "      <th>Name</th>\n",
       "    </tr>\n",
       "    <tr>\n",
       "      <th>Alignment</th>\n",
       "      <th></th>\n",
       "    </tr>\n",
       "  </thead>\n",
       "  <tbody>\n",
       "    <tr>\n",
       "      <th>Neutral Good</th>\n",
       "      <td>145</td>\n",
       "    </tr>\n",
       "    <tr>\n",
       "      <th>True Neutral</th>\n",
       "      <td>71</td>\n",
       "    </tr>\n",
       "    <tr>\n",
       "      <th>Lawful Good</th>\n",
       "      <td>69</td>\n",
       "    </tr>\n",
       "    <tr>\n",
       "      <th>Chaotic Good</th>\n",
       "      <td>61</td>\n",
       "    </tr>\n",
       "    <tr>\n",
       "      <th>Neutral Evil</th>\n",
       "      <td>51</td>\n",
       "    </tr>\n",
       "    <tr>\n",
       "      <th>Chaotic Evil</th>\n",
       "      <td>47</td>\n",
       "    </tr>\n",
       "    <tr>\n",
       "      <th>Chaotic Neutral</th>\n",
       "      <td>29</td>\n",
       "    </tr>\n",
       "    <tr>\n",
       "      <th>Lawful Evil</th>\n",
       "      <td>14</td>\n",
       "    </tr>\n",
       "    <tr>\n",
       "      <th>Lawful Neutral</th>\n",
       "      <td>13</td>\n",
       "    </tr>\n",
       "    <tr>\n",
       "      <th>Unknown</th>\n",
       "      <td>12</td>\n",
       "    </tr>\n",
       "  </tbody>\n",
       "</table>\n",
       "</div>"
      ],
      "text/plain": [
       "                 Name\n",
       "Alignment            \n",
       "Neutral Good      145\n",
       "True Neutral       71\n",
       "Lawful Good        69\n",
       "Chaotic Good       61\n",
       "Neutral Evil       51\n",
       "Chaotic Evil       47\n",
       "Chaotic Neutral    29\n",
       "Lawful Evil        14\n",
       "Lawful Neutral     13\n",
       "Unknown            12"
      ]
     },
     "execution_count": 291,
     "metadata": {},
     "output_type": "execute_result"
    }
   ],
   "source": [
    "df.groupby('Alignment')[['Name']].nunique().sort_values('Name', ascending=False).head(10)"
   ]
  },
  {
   "cell_type": "code",
   "execution_count": 295,
   "id": "800f3977-2e80-4b67-abbc-ce293302f6d4",
   "metadata": {},
   "outputs": [
    {
     "data": {
      "text/plain": [
       "['Abomasnow',\n",
       " 'Amoonguss',\n",
       " 'Arceus',\n",
       " 'Augus',\n",
       " 'Bastion',\n",
       " 'Blastoise',\n",
       " 'Blaziken',\n",
       " 'Cody Travers',\n",
       " 'Darmanitan',\n",
       " 'Deoxys',\n",
       " 'Ditto',\n",
       " 'Dunsparce',\n",
       " 'Enderman',\n",
       " 'Escavalier',\n",
       " 'Exeggutor',\n",
       " 'Fearow',\n",
       " 'Flygon',\n",
       " 'Frisk',\n",
       " 'Gliscor',\n",
       " 'Golurk',\n",
       " 'Gray Fox',\n",
       " 'Greninja',\n",
       " 'Hanzo Shimada',\n",
       " 'Haxorus',\n",
       " 'Heracross',\n",
       " 'Huitzil',\n",
       " 'Infernape',\n",
       " 'Jumpluff',\n",
       " 'Lara Croft',\n",
       " 'Lucario',\n",
       " 'Luvdisc',\n",
       " 'Machamp',\n",
       " 'Max Brass',\n",
       " 'Morrigan Aensland',\n",
       " 'Napstablook',\n",
       " 'Noctowl',\n",
       " 'Porygon-Z',\n",
       " 'Quagsire',\n",
       " 'Rayquaza',\n",
       " 'Reuniclus',\n",
       " 'Roxas',\n",
       " 'Sakuya Izayoi',\n",
       " 'Sceptile',\n",
       " 'Shigure Rangetsu',\n",
       " 'Shiki (Samurai Shodown)',\n",
       " 'Smeargle',\n",
       " 'Strider Hiryu',\n",
       " 'Taka',\n",
       " 'Terry (Banjo-Kazooie)',\n",
       " 'The Demoman (Classic)',\n",
       " 'The Engineer',\n",
       " 'The Engineer (Classic)',\n",
       " 'The Medic (Classic)',\n",
       " 'The Pyro',\n",
       " 'The Pyro (Classic)',\n",
       " 'The Scout',\n",
       " 'The Scout (Classic)',\n",
       " 'The Sniper (Classic)',\n",
       " 'The Soldier',\n",
       " 'The Soldier (Classic)',\n",
       " 'The Spy',\n",
       " 'The Spy (Classic)',\n",
       " 'Vespiquen',\n",
       " 'Viola',\n",
       " 'Whitney',\n",
       " 'Wiggler (Super Mario 64)',\n",
       " 'Wii Fit Trainer',\n",
       " 'Xatu',\n",
       " 'Zangoose',\n",
       " 'Zebstrika',\n",
       " 'Zekrom']"
      ]
     },
     "execution_count": 295,
     "metadata": {},
     "output_type": "execute_result"
    }
   ],
   "source": [
    "df.loc[df['Alignment'] == \"True Neutral\"]['Name'].tolist()"
   ]
  },
  {
   "cell_type": "code",
   "execution_count": null,
   "id": "feb69fc4-a5ea-4f5e-892d-5f3b60666cdd",
   "metadata": {},
   "outputs": [],
   "source": []
  }
 ],
 "metadata": {
  "kernelspec": {
   "display_name": "Python 3 (ipykernel)",
   "language": "python",
   "name": "python3"
  },
  "language_info": {
   "codemirror_mode": {
    "name": "ipython",
    "version": 3
   },
   "file_extension": ".py",
   "mimetype": "text/x-python",
   "name": "python",
   "nbconvert_exporter": "python",
   "pygments_lexer": "ipython3",
   "version": "3.10.6"
  }
 },
 "nbformat": 4,
 "nbformat_minor": 5
}
